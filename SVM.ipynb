{
  "nbformat": 4,
  "nbformat_minor": 0,
  "metadata": {
    "colab": {
      "name": "SVM.ipynb",
      "provenance": [],
      "collapsed_sections": []
    },
    "kernelspec": {
      "name": "python3",
      "display_name": "Python 3"
    },
    "language_info": {
      "name": "python"
    },
    "accelerator": "GPU"
  },
  "cells": [
    {
      "cell_type": "code",
      "metadata": {
        "id": "yPkhIVI1aD36"
      },
      "source": [
        "!cp drive/MyDrive/PatternRecognition.py ."
      ],
      "execution_count": null,
      "outputs": []
    },
    {
      "cell_type": "code",
      "metadata": {
        "id": "iAMPzT17bExi"
      },
      "source": [
        "from PatternRecognition import *\n",
        "from sklearn import svm"
      ],
      "execution_count": null,
      "outputs": []
    },
    {
      "cell_type": "code",
      "metadata": {
        "id": "7WluGVcfbIWb"
      },
      "source": [
        "class SVMModel(MNISTClassificationBaseModel):\n",
        "\n",
        "  shape = (-1, 784)\n",
        "\n",
        "  def __init__(self, balanced=False, noise_type='No Noise', noise_ratio=0):\n",
        "    # Call the parent constructor to load the mninst dataset\n",
        "    super().__init__(balanced, noise_type, noise_ratio)\n",
        "\n",
        "  def get_model_shape(self):\n",
        "    return SVMModel.shape\n",
        "\n",
        "  def shape_data(self):\n",
        "    self._x_train = self._x_train.reshape(*SVMModel.shape)\n",
        "    self._x_test = self._x_test.reshape(*SVMModel.shape)\n",
        "\n",
        "  def pre_process_label(self):\n",
        "    print('No label pre processing is required')\n",
        "\n",
        "  def _define_model(self):\n",
        "    return svm.SVC()\n",
        "\n",
        "  def train_and_predict(self):\n",
        "    clf = self._define_model()\n",
        "    # Learn the digits on the train subset\n",
        "    clf.fit(self.get_training_image(), self.get_training_label())\n",
        "\n",
        "    # Predict the value of the digit on the test subset\n",
        "    predicted = clf.predict(self.get_test_image())\n",
        "\n",
        "    return clf, predicted"
      ],
      "execution_count": null,
      "outputs": []
    },
    {
      "cell_type": "code",
      "metadata": {
        "colab": {
          "base_uri": "https://localhost:8080/"
        },
        "id": "mq836hhPMi_h",
        "outputId": "4b209234-c452-4d79-9227-e75104465e83"
      },
      "source": [
        "svm_imbalanced = SVMModel(balanced=False, noise_type='No Noise', noise_ratio=0)\n",
        "svm_imbalanced.get_original_dataset()[0].shape"
      ],
      "execution_count": null,
      "outputs": [
        {
          "output_type": "execute_result",
          "data": {
            "text/plain": [
              "(60000, 28, 28)"
            ]
          },
          "metadata": {},
          "execution_count": 7
        }
      ]
    },
    {
      "cell_type": "code",
      "metadata": {
        "id": "zfcRD3ghbXvb"
      },
      "source": [
        "if __name__ == \"__main__\":\n",
        "  print('Original Imbalanced with No noise')\n",
        "  svm_imbalanced = SVMModel(balanced=False, noise_type='No Noise', noise_ratio=0)\n",
        "  svm_imbalanced.scale_pixels()\n",
        "  svm_imbalanced.show_class_distribution(False)\n",
        "  clf, predicted = svm_imbalanced.train_and_predict()\n",
        "  svm_imbalanced.display_confusion_matrix(predicted)\n",
        "  svm_imbalanced.print_accuracy(predicted)\n",
        "  print(f\"Classification report for classifier {clf}:\\n\"\n",
        "      f\"{metrics.classification_report(svm_imbalanced.get_test_label(), predicted)}\\n\")\n",
        "  # test_image, actual_label, predicted_label = svm_imbalanced.get_misclassified(predicted)\n",
        "  # svm_imbalanced.display_samples(test_image, actual_label, predicted_label, False)\n",
        "\n",
        "  print('Imbalanced with Symmetrical Noise')\n",
        "  sym_non_balanced = SVMModel(balanced=False, noise_type='sym', noise_ratio=40)\n",
        "  sym_non_balanced.scale_pixels()\n",
        "  sym_non_balanced.show_class_distribution(False)\n",
        "  clf2, predicted2 = sym_non_balanced.train_and_predict()\n",
        "  sym_non_balanced.display_confusion_matrix(predicted2)\n",
        "  sym_non_balanced.print_accuracy(predicted2)\n",
        "  print(f\"Classification report for classifier {clf2}:\\n\"\n",
        "    f\"{metrics.classification_report(sym_non_balanced.get_test_label(), predicted2)}\\n\")\n",
        "  \n",
        "  print('Imbalanced with Asymmetrical Noise')\n",
        "  asym_non_balanced = SVMModel(balanced=False, noise_type='asym', noise_ratio=40)\n",
        "  asym_non_balanced.scale_pixels()\n",
        "  asym_non_balanced.show_class_distribution(False)\n",
        "  clf3, predicted3 = asym_non_balanced.train_and_predict()\n",
        "  asym_non_balanced.display_confusion_matrix(predicted3)\n",
        "  asym_non_balanced.print_accuracy(predicted3)\n",
        "  print(f\"Classification report for classifier {clf3}:\\n\"\n",
        "    f\"{metrics.classification_report(asym_non_balanced.get_test_label(), predicted3)}\\n\")\n",
        "  \n",
        "  print('Balanced with Symmetrical Noise')\n",
        "  sym_balanced = SVMModel(balanced=True, noise_type='sym', noise_ratio=40)\n",
        "  sym_balanced.scale_pixels()\n",
        "  sym_balanced.show_class_distribution(False)\n",
        "  clf4, predicted4 = sym_balanced.train_and_predict()\n",
        "  sym_balanced.display_confusion_matrix(predicted4)\n",
        "  sym_balanced.print_accuracy(predicted4)\n",
        "  print(f\"Classification report for classifier {clf4}:\\n\"\n",
        "    f\"{metrics.classification_report(sym_balanced.get_test_label(), predicted4)}\\n\")\n",
        "  \n",
        "  print('Balanced with Asymmetrical Noise')\n",
        "  asym_balanced = SVMModel(balanced=True, noise_type='asym', noise_ratio=40)\n",
        "  asym_balanced.scale_pixels()\n",
        "  asym_balanced.show_class_distribution(False)\n",
        "  clf5, predicted5 = asym_balanced.train_and_predict()\n",
        "  asym_balanced.display_confusion_matrix(predicted5)\n",
        "  asym_balanced.print_accuracy(predicted5)\n",
        "  print(f\"Classification report for classifier {clf5}:\\n\"\n",
        "    f\"{metrics.classification_report(asym_balanced.get_test_label(), predicted5)}\\n\")\n",
        "  \n",
        "  print('Balanced with No Noise')\n",
        "  svm_balanced = SVMModel(balanced=True, noise_type='No Noise', noise_ratio=0)\n",
        "  svm_balanced.scale_pixels()\n",
        "  svm_balanced.show_class_distribution(False)\n",
        "  clf6, predicted6 = svm_balanced.train_and_predict()\n",
        "  svm_balanced.display_confusion_matrix(predicted6)\n",
        "  svm_balanced.print_accuracy(predicted6)\n",
        "  print(f\"Classification report for classifier {clf6}:\\n\"\n",
        "    f\"{metrics.classification_report(svm_balanced.get_test_label(), predicted6)}\\n\")\n",
        "\n"
      ],
      "execution_count": null,
      "outputs": []
    }
  ]
}