{
  "nbformat": 4,
  "nbformat_minor": 0,
  "metadata": {
    "colab": {
      "name": "Proposed ML and DL.ipynb",
      "provenance": [],
      "collapsed_sections": [],
      "machine_shape": "hm"
    },
    "kernelspec": {
      "name": "python3",
      "display_name": "Python 3"
    },
    "language_info": {
      "name": "python"
    },
    "accelerator": "GPU"
  },
  "cells": [
    {
      "cell_type": "code",
      "metadata": {
        "id": "hqCIGL5pUiqu"
      },
      "source": [
        "import numpy as np\n",
        "import pandas as pd\n",
        "import matplotlib.pyplot as plt\n",
        "import tensorflow \n",
        "from tensorflow import keras\n",
        "from tensorflow.keras import layers\n",
        "from keras.datasets import mnist\n",
        "import random"
      ],
      "execution_count": null,
      "outputs": []
    },
    {
      "cell_type": "code",
      "metadata": {
        "id": "3JpS51yfUxDX",
        "colab": {
          "base_uri": "https://localhost:8080/"
        },
        "outputId": "84f4c688-f3cc-411e-fb1f-b630b67e913c"
      },
      "source": [
        "#Importing the data\n",
        "(X_train,Y_train),(X_test,Y_test)=mnist.load_data()"
      ],
      "execution_count": null,
      "outputs": [
        {
          "output_type": "stream",
          "name": "stdout",
          "text": [
            "Downloading data from https://storage.googleapis.com/tensorflow/tf-keras-datasets/mnist.npz\n",
            "11493376/11490434 [==============================] - 0s 0us/step\n",
            "11501568/11490434 [==============================] - 0s 0us/step\n"
          ]
        }
      ]
    },
    {
      "cell_type": "code",
      "metadata": {
        "colab": {
          "base_uri": "https://localhost:8080/",
          "height": 633
        },
        "id": "4zlwmqpHl_9N",
        "outputId": "dfca0d41-6709-403e-f3cb-59a4c96573bf"
      },
      "source": [
        "#Evaluating the data\n",
        "class data_manipulation:\n",
        "  def imbalanced_data(X,Y):\n",
        "    #Returning the same data\n",
        "    return (X,Y)\n",
        "  def balanced_data(X,Y):\n",
        "    # Calculating the size of the each class\n",
        "    data_length = np.array([0,0,0,0,0,0,0,0,0,0])\n",
        "    for i in Y:  # ------- Complexity is O(N)\n",
        "      data_length[i] += 1\n",
        "    data_labels = np.array(['0','1','2','3','4','5','6','7','8','9'])\n",
        "    plt.figure()\n",
        "    plt.title('The data size of classes BEFORE BALANCING.\\n')\n",
        "    plt.xlabel('Size of classes in data.')\n",
        "    plt.ylabel('Size of the class.')\n",
        "    plt.bar(data_labels, data_length)\n",
        "    plt.show()\n",
        "    \n",
        "    # Getting the indices of the data to retrive the data by indices.\n",
        "    balanced_data_length = np.array([0,0,0,0,0,0,0,0,0,0])\n",
        "    data_indices = []\n",
        "    for i,j in zip(Y,range(0,len(Y))):  # ------- Complexity is O(N)\n",
        "      if balanced_data_length[i] < 5000:\n",
        "        balanced_data_length[i] += 1\n",
        "        data_indices.append(j)\n",
        "      else:\n",
        "        pass\n",
        "    \n",
        "    # Creating the balanced dataset\n",
        "    balanced_x = []\n",
        "    balanced_y = []\n",
        "    for i in data_indices:\n",
        "      balanced_x.append(X[i])\n",
        "      balanced_y.append(Y[i])\n",
        "    balanced_x = np.array(balanced_x)\n",
        "    balanced_y = np.array(balanced_y)\n",
        "\n",
        "    # Calculating the size of the each class and Displaying the data\n",
        "    data_length_1 = np.array([0,0,0,0,0,0,0,0,0,0])\n",
        "    for i in balanced_y:  # ------- Complexity is O(N)\n",
        "      data_length_1[i] += 1\n",
        "    data_labels_1 = np.array(['0','1','2','3','4','5','6','7','8','9'])\n",
        "    plt.figure()\n",
        "    plt.title('\\n\\nThe data size of classes AFTER BALANCING.\\n')\n",
        "    plt.xlabel('Size of classes in data.')\n",
        "    plt.ylabel('Size of the class.')\n",
        "    plt.bar(data_labels_1, data_length_1)\n",
        "    plt.show()\n",
        "    # Returning the balanced values\n",
        "    return (balanced_x,balanced_y)\n",
        "  def balanced_and_symetric_data(X,Y):\n",
        "    #Getting the balanced data from the function\n",
        "    # As we have already balanced the dataset expicitlly as 5000 for each class\n",
        "    # I am going to change the last 500 values as from backwards.\n",
        "    balanced_and_symetric_data_Y = []\n",
        "    data_length_1 = np.array([0,0,0,0,0,0,0,0,0,0])\n",
        "    for i in Y:  # ------- Complexity is O(N)\n",
        "      if 4499 < data_length_1[i] < 5000:\n",
        "        data_length_1[i] += 1\n",
        "        balanced_and_symetric_data_Y.append(9-i)\n",
        "      else:\n",
        "        balanced_and_symetric_data_Y.append(i)\n",
        "    return (X, np.array(balanced_and_symetric_data_Y))\n",
        "\n",
        "  def imbalanced_and_symetric_data(X,Y):\n",
        "    #Getting the balanced data from the function\n",
        "    # As we have already balanced the dataset expicitlly as 5000 for each class\n",
        "    # I am going to change the last 500 values as from backwards.\n",
        "    imbalanced_and_symetric_data_Y = []\n",
        "    data_length_1 = np.array([0,0,0,0,0,0,0,0,0,0])\n",
        "    for i in Y:  # ------- Complexity is O(N)\n",
        "      if 4499 < data_length_1[i] < 5000:\n",
        "        data_length_1[i] += 1\n",
        "        imbalanced_and_symetric_data_Y.append(9-i)\n",
        "      else:\n",
        "        imbalanced_and_symetric_data_Y.append(i)\n",
        "    return (X, random.shuffle(np.array(imbalanced_and_symetric_data_Y)))\n",
        "\n",
        "data = data_manipulation\n",
        "(Imbalanced_X_train, Imbalanced_Y_train) = data.imbalanced_data(X_train,Y_train)\n",
        "(Balanced_X_train, Balanced_Y_train) = data.balanced_data(X_train,Y_train)\n",
        "(Symetric_Balanced_X_train,Symetric_Balanced_Y_train) = data.balanced_and_symetric_data(Balanced_X_train,Balanced_Y_train)"
      ],
      "execution_count": null,
      "outputs": [
        {
          "output_type": "display_data",
          "data": {
            "image/png": "[encoded data removed]",
            "text/plain": [
              "<Figure size 432x288 with 1 Axes>"
            ]
          },
          "metadata": {
            "needs_background": "light"
          }
        },
        {
          "output_type": "display_data",
          "data": {
            "image/png": "[encoded data removed]",
            "text/plain": [
              "<Figure size 432x288 with 1 Axes>"
            ]
          },
          "metadata": {
            "needs_background": "light"
          }
        }
      ]
    },
    {
      "cell_type": "code",
      "metadata": {
        "id": "CHE7YK600zP5"
      },
      "source": [
        "#Creating the class of the ML and DL models.\n",
        "class models_:\n",
        "  def proposed_DL_model(X,Y):\n",
        "    X_test = X[0:4000]\n",
        "    Y_test = Y[0:4000]\n",
        "    X_test = X[4000:5000]\n",
        "    Y_test = Y[4000:5000]\n",
        "    model=keras.Sequential(name='Digit_pattern_recognition')\n",
        "    model.add(layers.Flatten(input_shape=(28,28)))\n",
        "    model.add(layers.Dense(128,activation='relu',name='Hinden1'))\n",
        "    model.add(layers.Dense(64,activation='relu',name='Hinden2'))\n",
        "    model.add(layers.Dense(10,activation='softmax',name='ouput_Layer'))\n",
        "    keras.utils.plot_model(model,'mnist_classifier.png')\n",
        "    model.compile(loss=keras.losses.SparseCategoricalCrossentropy(from_logits=True),optimizer='adam',metrics=['accuracy'])\n",
        "    model.fit(X_train,Y_train,epochs=10)\n",
        "    output_ = model.evaluate(X_test,Y_test)\n",
        "    return (output_[1]*100)\n",
        "\n",
        "model = models_"
      ],
      "execution_count": null,
      "outputs": []
    },
    {
      "cell_type": "code",
      "metadata": {
        "colab": {
          "base_uri": "https://localhost:8080/"
        },
        "id": "NQtDwJox-_Ho",
        "outputId": "babd3c98-a3e2-4dd0-b0b2-9d058180c5be"
      },
      "source": [
        "accuracy_imbalnced = model.proposed_DL_model(X_train,Y_train)\n",
        "accuracy_balnced = model.proposed_DL_model(Balanced_X_train,Balanced_Y_train)\n",
        "accuracy_balanced_symetric = model.proposed_DL_model(Symetric_Balanced_X_train,Symetric_Balanced_Y_train) "
      ],
      "execution_count": null,
      "outputs": [
        {
          "output_type": "stream",
          "name": "stdout",
          "text": [
            "Epoch 1/10\n"
          ]
        },
        {
          "output_type": "stream",
          "name": "stderr",
          "text": [
            "/usr/local/lib/python3.7/dist-packages/tensorflow/python/util/dispatch.py:1096: UserWarning: \"`sparse_categorical_crossentropy` received `from_logits=True`, but the `output` argument was produced by a sigmoid or softmax activation and thus does not represent logits. Was this intended?\"\n",
            "  return dispatch_target(*args, **kwargs)\n"
          ]
        },
        {
          "output_type": "stream",
          "name": "stdout",
          "text": [
            "1875/1875 [==============================] - 4s 2ms/step - loss: 1.5171 - accuracy: 0.8582\n",
            "Epoch 2/10\n",
            "1875/1875 [==============================] - 3s 2ms/step - loss: 0.3025 - accuracy: 0.9261\n",
            "Epoch 3/10\n",
            "1875/1875 [==============================] - 3s 2ms/step - loss: 0.2034 - accuracy: 0.9462\n",
            "Epoch 4/10\n",
            "1875/1875 [==============================] - 3s 2ms/step - loss: 0.1588 - accuracy: 0.9569\n",
            "Epoch 5/10\n",
            "1875/1875 [==============================] - 3s 2ms/step - loss: 0.1429 - accuracy: 0.9614\n",
            "Epoch 6/10\n",
            "1875/1875 [==============================] - 3s 2ms/step - loss: 0.1213 - accuracy: 0.9670\n",
            "Epoch 7/10\n",
            "1875/1875 [==============================] - 3s 2ms/step - loss: 0.1105 - accuracy: 0.9700\n",
            "Epoch 8/10\n",
            "1875/1875 [==============================] - 3s 2ms/step - loss: 0.1015 - accuracy: 0.9730\n",
            "Epoch 9/10\n",
            "1875/1875 [==============================] - 3s 2ms/step - loss: 0.0885 - accuracy: 0.9763\n",
            "Epoch 10/10\n",
            "1875/1875 [==============================] - 3s 2ms/step - loss: 0.0879 - accuracy: 0.9772\n",
            "32/32 [==============================] - 0s 2ms/step - loss: 0.0680 - accuracy: 0.9780\n",
            "Epoch 1/10\n",
            "1875/1875 [==============================] - 4s 2ms/step - loss: 1.4033 - accuracy: 0.8345\n",
            "Epoch 2/10\n",
            "1875/1875 [==============================] - 3s 2ms/step - loss: 0.3295 - accuracy: 0.9133\n",
            "Epoch 3/10\n",
            "1875/1875 [==============================] - 3s 2ms/step - loss: 0.2225 - accuracy: 0.9390\n",
            "Epoch 4/10\n",
            "1875/1875 [==============================] - 3s 2ms/step - loss: 0.1749 - accuracy: 0.9515\n",
            "Epoch 5/10\n",
            "1875/1875 [==============================] - 3s 2ms/step - loss: 0.1422 - accuracy: 0.9615\n",
            "Epoch 6/10\n",
            "1875/1875 [==============================] - 3s 2ms/step - loss: 0.1245 - accuracy: 0.9663\n",
            "Epoch 7/10\n",
            "1875/1875 [==============================] - 3s 2ms/step - loss: 0.1110 - accuracy: 0.9695\n",
            "Epoch 8/10\n",
            "1875/1875 [==============================] - 3s 2ms/step - loss: 0.0968 - accuracy: 0.9740\n",
            "Epoch 9/10\n",
            "1875/1875 [==============================] - 3s 2ms/step - loss: 0.0845 - accuracy: 0.9777\n",
            "Epoch 10/10\n",
            "1875/1875 [==============================] - 3s 2ms/step - loss: 0.0875 - accuracy: 0.9776\n",
            "32/32 [==============================] - 0s 2ms/step - loss: 0.0786 - accuracy: 0.9830\n",
            "Epoch 1/10\n",
            "1875/1875 [==============================] - 4s 2ms/step - loss: 1.3341 - accuracy: 0.8607\n",
            "Epoch 2/10\n",
            "1875/1875 [==============================] - 3s 2ms/step - loss: 0.2854 - accuracy: 0.9264\n",
            "Epoch 3/10\n",
            "1875/1875 [==============================] - 3s 2ms/step - loss: 0.2021 - accuracy: 0.9456\n",
            "Epoch 4/10\n",
            "1875/1875 [==============================] - 3s 2ms/step - loss: 0.1582 - accuracy: 0.9561\n",
            "Epoch 5/10\n",
            "1875/1875 [==============================] - 3s 2ms/step - loss: 0.1387 - accuracy: 0.9617\n",
            "Epoch 6/10\n",
            "1875/1875 [==============================] - 3s 2ms/step - loss: 0.1239 - accuracy: 0.9658\n",
            "Epoch 7/10\n",
            "1875/1875 [==============================] - 3s 2ms/step - loss: 0.1103 - accuracy: 0.9704\n",
            "Epoch 8/10\n",
            "1875/1875 [==============================] - 3s 2ms/step - loss: 0.1035 - accuracy: 0.9719\n",
            "Epoch 9/10\n",
            "1875/1875 [==============================] - 3s 2ms/step - loss: 0.0932 - accuracy: 0.9755\n",
            "Epoch 10/10\n",
            "1875/1875 [==============================] - 3s 2ms/step - loss: 0.0875 - accuracy: 0.9759\n",
            "32/32 [==============================] - 0s 2ms/step - loss: 0.0533 - accuracy: 0.9790\n"
          ]
        }
      ]
    },
    {
      "cell_type": "code",
      "metadata": {
        "colab": {
          "base_uri": "https://localhost:8080/"
        },
        "id": "Qyj49sFBYqyj",
        "outputId": "4e05c123-e6fb-431b-babb-904833286bd6"
      },
      "source": [
        "print(accuracy_imbalnced)\n",
        "print(accuracy_balnced)\n",
        "print(accuracy_balanced_symetric)"
      ],
      "execution_count": null,
      "outputs": [
        {
          "output_type": "stream",
          "name": "stdout",
          "text": [
            "97.79999852180481\n",
            "98.29999804496765\n",
            "97.89999723434448\n"
          ]
        }
      ]
    },
    {
      "cell_type": "markdown",
      "metadata": {
        "id": "Upe28uF3NtMg"
      },
      "source": [
        "#PROPOSED ML MODEL"
      ]
    },
    {
      "cell_type": "code",
      "metadata": {
        "id": "r5swZRr2KmS6"
      },
      "source": [
        "import numpy as np\n",
        "import pandas as pd\n",
        "from sklearn.ensemble import RandomForestClassifier\n",
        "from sklearn.metrics import confusion_matrix, f1_score, precision_score\n",
        "import matplotlib.pyplot as plt"
      ],
      "execution_count": null,
      "outputs": []
    },
    {
      "cell_type": "code",
      "metadata": {
        "id": "sPknsImeLFdV"
      },
      "source": [
        "def flatter_(x):\n",
        "  X = []\n",
        "  for i in x:\n",
        "    X.append(np.resize(i,1024))\n",
        "  return np.array(X)\n",
        "\n",
        "X_tb = flatter_(Balanced_X_train)\n",
        "X_imb = flatter_(Imbalanced_X_train)\n",
        "X_bs = flatter_(Symetric_Balanced_X_train)\n",
        "X_te = flatter_(X_test)\n"
      ],
      "execution_count": null,
      "outputs": []
    },
    {
      "cell_type": "code",
      "metadata": {
        "id": "9sh57xGLL3IQ"
      },
      "source": [
        "# Declaring the Random Forest\n",
        "rd = RandomForestClassifier(criterion = 'entropy')"
      ],
      "execution_count": null,
      "outputs": []
    },
    {
      "cell_type": "code",
      "metadata": {
        "id": "_sJ2lJ4gKmth",
        "colab": {
          "base_uri": "https://localhost:8080/"
        },
        "outputId": "73913281-c318-42e7-c4e6-574e97e0ffed"
      },
      "source": [
        "# For Balanced\n",
        "rd.fit(X_tb, Y_train[0:50000])\n",
        "rd.score(X_tb, Y_train[0:50000])"
      ],
      "execution_count": null,
      "outputs": [
        {
          "output_type": "execute_result",
          "data": {
            "text/plain": [
              "0.99994"
            ]
          },
          "metadata": {},
          "execution_count": 38
        }
      ]
    },
    {
      "cell_type": "code",
      "metadata": {
        "colab": {
          "base_uri": "https://localhost:8080/"
        },
        "id": "S9WTbBWaLOUK",
        "outputId": "3b087f50-0828-4bd5-b0e5-8c6c99d5e00f"
      },
      "source": [
        "predicted = rd.predict(X_te)\n",
        "print(accuracy_score(Y_test, predicted))"
      ],
      "execution_count": null,
      "outputs": [
        {
          "output_type": "stream",
          "name": "stdout",
          "text": [
            "0.9654\n"
          ]
        }
      ]
    },
    {
      "cell_type": "code",
      "metadata": {
        "colab": {
          "base_uri": "https://localhost:8080/"
        },
        "id": "dgSOriQ1MFmi",
        "outputId": "cfbcad47-12b5-44f5-9e7c-62c9325be68d"
      },
      "source": [
        "# For ImBalanced\n",
        "rd.fit(X_imb, Imbalanced_Y_train)\n",
        "rd.score(X_imb, Imbalanced_Y_train)"
      ],
      "execution_count": null,
      "outputs": [
        {
          "output_type": "execute_result",
          "data": {
            "text/plain": [
              "1.0"
            ]
          },
          "metadata": {},
          "execution_count": 41
        }
      ]
    },
    {
      "cell_type": "code",
      "metadata": {
        "colab": {
          "base_uri": "https://localhost:8080/"
        },
        "id": "06DckJVdM09J",
        "outputId": "6a6185f9-51af-474e-e59a-baa08b77bc61"
      },
      "source": [
        "predicted = rd.predict(X_te)\n",
        "print(accuracy_score(Y_test, predicted))"
      ],
      "execution_count": null,
      "outputs": [
        {
          "output_type": "stream",
          "name": "stdout",
          "text": [
            "0.9686\n"
          ]
        }
      ]
    },
    {
      "cell_type": "code",
      "metadata": {
        "colab": {
          "base_uri": "https://localhost:8080/"
        },
        "id": "KFOcvnhRMFpd",
        "outputId": "f88ba1b4-02e8-4926-c62a-78117349e58e"
      },
      "source": [
        "# For Balanced and Symetric\n",
        "rd.fit(X_bs, Symetric_Balanced_Y_train)\n",
        "rd.score(X_bs, Symetric_Balanced_Y_train)"
      ],
      "execution_count": null,
      "outputs": [
        {
          "output_type": "execute_result",
          "data": {
            "text/plain": [
              "1.0"
            ]
          },
          "metadata": {},
          "execution_count": 45
        }
      ]
    },
    {
      "cell_type": "code",
      "metadata": {
        "colab": {
          "base_uri": "https://localhost:8080/"
        },
        "id": "ZqyNHDwuM2I7",
        "outputId": "60374fbc-9d7c-4c35-d7f3-c003ac20efc0"
      },
      "source": [
        "predicted = rd.predict(X_te)\n",
        "print(accuracy_score(Y_test, predicted))"
      ],
      "execution_count": null,
      "outputs": [
        {
          "output_type": "stream",
          "name": "stdout",
          "text": [
            "0.9671\n"
          ]
        }
      ]
    },
    {
      "cell_type": "code",
      "metadata": {
        "id": "N8dL0vVvNQ02"
      },
      "source": [
        ""
      ],
      "execution_count": null,
      "outputs": []
    }
  ]
}