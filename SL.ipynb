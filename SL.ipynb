{
  "cells": [
    {
      "cell_type": "code",
      "execution_count": 1,
      "metadata": {
        "id": "PJIBpvu8r9c9"
      },
      "outputs": [],
      "source": [
        "import tensorflow as tf \n",
        "import numpy as np \n",
        "#from PatternRecognition import *"
      ]
    },
    {
      "cell_type": "code",
      "execution_count": 4,
      "metadata": {
        "id": "XYZcQxhusBsV"
      },
      "outputs": [],
      "source": [
        "def symmetric_cross_entropy(alpha, beta):\n",
        "    def loss(y_true, y_pred):\n",
        "        y_true_1 = y_true\n",
        "        y_pred_1 = y_pred\n",
        "\n",
        "        y_true_2 = y_true\n",
        "        y_pred_2 = y_pred\n",
        "\n",
        "        y_pred_1 = tf.clip_by_value(y_pred_1, 1e-7, 1.0)\n",
        "        y_true_2 = tf.clip_by_value(y_true_2, 1e-4, 1.0)\n",
        "\n",
        "        return alpha*tf.reduce_mean(-tf.reduce_sum(y_true_1 * tf.math.log(y_pred_1), axis = -1)) + beta*tf.reduce_mean(-tf.reduce_sum(y_pred_2 * tf.math.log(y_true_2), axis = -1))\n",
        "    return loss"
      ]
    },
    {
      "cell_type": "code",
      "execution_count": 3,
      "metadata": {
        "id": "L2-nj99RtYo2"
      },
      "outputs": [],
      "source": [
        "from keras.datasets import mnist\n",
        "from imblearn.under_sampling import RandomUnderSampler\n",
        "from tensorflow.keras.utils import to_categorical\n",
        "from sklearn import metrics\n",
        "from sklearn.metrics import accuracy_score\n",
        "from abc import ABC, abstractmethod\n",
        "import matplotlib.pyplot as plt\n",
        "import numpy as np\n",
        "\n",
        "np.random.seed(123)\n",
        "\n",
        "class MNISTClassificationBaseModel(ABC):\n",
        "\n",
        "  class_count = 10\n",
        "  original_dataset_shape = (28, 28)\n",
        "  classes = [0, 1, 2, 3, 4, 5, 6, 7, 8, 9]\n",
        "\n",
        "  @abstractmethod\n",
        "  def __init__(self, balanced=False, noise_type='No Noise', noise_ratio=0):\n",
        "    (self._x_train, self._y_train), (self._x_test, self._y_test) = mnist.load_data()\n",
        "    self._original_dataset = (np.copy(self._x_train), np.copy(self._y_train),\n",
        "                              np.copy(self._x_test), np.copy(self._y_test))\n",
        "\n",
        "    if balanced is True:\n",
        "      self.balance_dataset()\n",
        "\n",
        "    self.shape_data()\n",
        "    \n",
        "    if noise_type == 'asym':\n",
        "      self.induce_asym_noise(noise_ratio)\n",
        "      clean_selected = np.argwhere(self.get_training_label() == self.get_original_dataset()[1]).reshape((-1,))\n",
        "      noisy_selected = np.argwhere(self.get_training_label() != self.get_original_dataset()[1]).reshape((-1,))\n",
        "      print(\"#correct labels: %s, #incorrect labels: %s\" % (len(clean_selected), len(noisy_selected)))\n",
        "    elif noise_type == 'sym':\n",
        "      self.induce_sym_noise(noise_ratio)\n",
        "      clean_selected = np.argwhere(self.get_training_label() == self.get_original_dataset()[1]).reshape((-1,))\n",
        "      noisy_selected = np.argwhere(self.get_training_label() != self.get_original_dataset()[1]).reshape((-1,))\n",
        "      print(\"#correct labels: %s, #incorrect labels: %s\" % (len(clean_selected), len(noisy_selected)))\n",
        "    elif noise_type == 'No Noise':\n",
        "      pass\n",
        "    else:\n",
        "      raise ValueError('%s noise type is not recognized. Value can be asym, sym or No Noise' % noise_type)\n",
        "\n",
        "  def get_original_dataset(self):\n",
        "    return self._original_dataset;\n",
        "\n",
        "  def get_training_image(self):\n",
        "    return self._x_train\n",
        "\n",
        "  def get_training_label(self):\n",
        "    return self._y_train\n",
        "\n",
        "  def get_test_image(self):\n",
        "    return self._x_test\n",
        "\n",
        "  def get_test_label(self):\n",
        "    return self._y_test\n",
        "\n",
        "  def scale_pixels(self):\n",
        "    # Convert from integers to float\n",
        "    self._x_train = self._x_train.astype('float32')\n",
        "    self._x_test = self._x_test.astype('float32')\n",
        "\n",
        "    # Normalize pixels from range [0, 255] to [0, 1]\n",
        "    self._x_train /= 255.0\n",
        "    self._x_test /= 255.0\n",
        "\n",
        "  def show_class_distribution(self, original_dataset=False):\n",
        "    if original_dataset:\n",
        "      unique, counts = np.unique(self.get_original_dataset()[1], return_counts=True)\n",
        "      plt.bar(unique, counts)\n",
        "      # unique, counts = np.unique(self.get_original_dataset()[3], return_counts=True)\n",
        "      # plt.bar(unique, counts)\n",
        "    else:\n",
        "      unique, counts = np.unique(self.get_training_label(), return_counts=True)\n",
        "      plt.bar(unique, counts)\n",
        "      # unique, counts = np.unique(self.get_test_label(), return_counts=True)\n",
        "      # plt.bar(unique, counts)\n",
        "\n",
        "    plt.title('Class Distribution')\n",
        "    plt.xlabel('Class')\n",
        "    plt.ylabel('Frequency')\n",
        "\n",
        "    plt.show()\n",
        "\n",
        "  def print_accuracy(self, predicted):\n",
        "    print('Accuracy for the predicted labels : ' , accuracy_score(self.get_test_label(), predicted) * 100)\n",
        "\n",
        "  def display_confusion_matrix(self, predicted):\n",
        "    cm = metrics.confusion_matrix(self.get_test_label(), predicted,\n",
        "                                  labels=MNISTClassificationBaseModel.classes)\n",
        "    disp = metrics.ConfusionMatrixDisplay(confusion_matrix=cm,\n",
        "                                          display_labels=MNISTClassificationBaseModel.classes)\n",
        "    disp.plot()\n",
        "    plt.show()\n",
        "\n",
        "  def display_samples(self, images, actual_labels, predicted_labels, is_label_pre_processed):\n",
        "\n",
        "    images = images.reshape(*self.get_model_shape())\n",
        "    predicted_labels = predicted_labels.squeeze()\n",
        "    actual_labels = actual_labels.squeeze()\n",
        "\n",
        "    l = len(images)\n",
        "\n",
        "    while True:\n",
        "      if l <= 0:\n",
        "        break\n",
        "\n",
        "      cols = min(5, l)\n",
        "\n",
        "      subset_images, images = np.asarray(images[:cols]), np.asarray(images[cols:])\n",
        "      subset_predicted_labels, predicted_labels = np.asarray(predicted_labels[:cols]), np.asarray(predicted_labels[cols:])\n",
        "      subset_actual_labels, actual_labels = np.asarray(actual_labels[:cols]), np.asarray(actual_labels[cols:])\n",
        "\n",
        "      _, axes = plt.subplots(nrows=1, ncols=cols, figsize=(10, 3),\n",
        "                          constrained_layout=True)\n",
        "\n",
        "      for ax, image, actual_label, predicted_label in zip(axes, subset_images, subset_actual_labels, subset_predicted_labels):\n",
        "        ax.set_axis_off()\n",
        "        ax.imshow(image.reshape(MNISTClassificationBaseModel.original_dataset_shape), cmap='gray')\n",
        "        if is_label_pre_processed:\n",
        "          ax.set_title('Actual: %i, Predicted: %i' % (np.argmax(actual_label), np.argmax(predicted_label)))\n",
        "        else:\n",
        "          ax.set_title('Actual: %i, Predicted: %i' % (actual_label, predicted_label))\n",
        "\n",
        "      plt.show()\n",
        "\n",
        "      l -=cols\n",
        "\n",
        "  def _get_misclassified_indices(self, predicted):\n",
        "    return np.nonzero(predicted != self.get_test_label())\n",
        "\n",
        "  def get_misclassified(self, predicted):\n",
        "    misclassified_indices = np.asarray(self._get_misclassified_indices(predicted))\n",
        "    misclassified_test_image = self.get_test_image()[misclassified_indices]\n",
        "    misclassified_predicted_label = predicted[misclassified_indices]\n",
        "    misclassified_actual_label = self.get_test_label()[misclassified_indices]\n",
        "    return misclassified_test_image, misclassified_actual_label, misclassified_predicted_label\n",
        "\n",
        "  def balance_dataset(self):\n",
        "    rus = RandomUnderSampler(random_state=123)\n",
        "    self._x_train, self._y_train = rus.fit_resample(self.get_training_image(), self.get_training_label())\n",
        "\n",
        "  def induce_asym_noise(self, noise_ratio=40):\n",
        "    source_class = [7, 2, 3, 5, 6]\n",
        "    target_class = [1, 7, 8, 6, 5]\n",
        "    y_train_clean = np.copy(self.get_training_label())\n",
        "\n",
        "    for s, t in zip(source_class, target_class):\n",
        "      cls_idx = np.where(y_train_clean == s)[0]\n",
        "      # print('cls_idx',cls_idx)\n",
        "      n_noisy = int(noise_ratio * cls_idx.shape[0] / 100)\n",
        "      # print('n_noisy',n_noisy)\n",
        "      noisy_sample_index = np.random.choice(cls_idx, n_noisy, replace=False)\n",
        "      # print(noisy_sample_index)\n",
        "      self._y_train[noisy_sample_index] = t\n",
        "\n",
        "    print(\"Print noisy label generation statistics:\")\n",
        "    for i in range(MNISTClassificationBaseModel.class_count):\n",
        "      n_noisy = np.sum(self.get_training_label() == i)\n",
        "      print(\"Noisy class %s, has %s samples.\" % (i, n_noisy))\n",
        "\n",
        "  def other_class(self, n_classes, current_class):\n",
        "    if current_class < 0 or current_class >= n_classes:\n",
        "        error_str = \"class_ind must be within the range (0, nb_classes - 1)\"\n",
        "        raise ValueError(error_str)\n",
        "\n",
        "    other_class_list = list(range(n_classes))\n",
        "    other_class_list.remove(current_class)\n",
        "    other_class = np.random.choice(other_class_list)\n",
        "    return other_class\n",
        "\n",
        "  def induce_sym_noise(self, noise_ratio=40):\n",
        "    y_train_clean = np.copy(self.get_training_label())\n",
        "    n_samples = self.get_training_label().shape[0]\n",
        "    n_noisy = int(noise_ratio * n_samples / 100)\n",
        "    # print(n_samples, n_noisy)\n",
        "    class_index = [np.where(y_train_clean == i)[0] for i in range(MNISTClassificationBaseModel.class_count)]\n",
        "    class_noisy = int(n_noisy / 10)\n",
        "\n",
        "    noisy_idx = []\n",
        "    for d in range(MNISTClassificationBaseModel.class_count):\n",
        "      noisy_class_index = np.random.choice(class_index[d], class_noisy, replace=False)\n",
        "      noisy_idx.extend(noisy_class_index)\n",
        "\n",
        "    for i in noisy_idx:\n",
        "      self._y_train[i] = self.other_class(n_classes=MNISTClassificationBaseModel.class_count,\n",
        "                                     current_class=self.get_training_label()[i])\n",
        "\n",
        "  @abstractmethod\n",
        "  def shape_data(self):\n",
        "    pass\n",
        "\n",
        "  @abstractmethod\n",
        "  def get_model_shape(self):\n",
        "    pass\n",
        "\n",
        "  @abstractmethod\n",
        "  def pre_process_label(self):\n",
        "    pass\n",
        "\n",
        "  @abstractmethod\n",
        "  def _define_model(self):\n",
        "    pass\n"
      ]
    },
    {
      "cell_type": "code",
      "execution_count": 5,
      "metadata": {
        "id": "cA0SkVBrsHBc"
      },
      "outputs": [],
      "source": [
        "import tensorflow as tf\n",
        "import keras.backend as K\n",
        "from keras.models import Model\n",
        "from keras.regularizers import l2\n",
        "from keras.preprocessing.image import ImageDataGenerator\n",
        "from tensorflow.keras.optimizers import SGD\n",
        "from keras.layers import Input, Conv2D, Dense, MaxPooling2D, Dropout, Flatten, Activation, BatchNormalization\n",
        "from keras.utils import np_utils\n",
        "\n",
        "class SLModel(MNISTClassificationBaseModel):\n",
        "\n",
        "  shape = (-1, 28, 28, 1)\n",
        "\n",
        "  def __init__(self, balanced=False, noise_type='No Noise', noise_ratio=0):\n",
        "    # Call the parent constructor to load the mninst dataset\n",
        "    super().__init__(balanced, noise_type, noise_ratio)\n",
        "  \n",
        "  def balance_dataset(self):\n",
        "    \n",
        "    rus = RandomUnderSampler(random_state=123)\n",
        "    self._x_train = self._x_train.reshape(-1, 28 * 28)\n",
        "    print(self._x_train.shape)\n",
        "    self._x_train, self._y_train = rus.fit_resample(self.get_training_image(), self.get_training_label())\n",
        "    #print(self._x_train.shape)\n",
        "\n",
        "  def get_model_shape(self):\n",
        "    return SLModel.shape\n",
        "\n",
        "  def shape_data(self):\n",
        "    self._x_train = self._x_train.reshape(*SLModel.shape)\n",
        "    self._x_test = self._x_test.reshape(*SLModel.shape)\n",
        "    self.scale_pixels()\n",
        "\n",
        "  def pre_process_label(self):\n",
        "    self._y_train = np_utils.to_categorical(self._y_train, 10)\n",
        "    self._y_test = np_utils.to_categorical(self._y_test, 10)\n",
        "\n",
        "  def display_confusion_matrix(self, predicted):\n",
        "    cm = metrics.confusion_matrix(np.argmax(self.get_test_label(), axis=1), predicted,\n",
        "                                  labels=MNISTClassificationBaseModel.classes)\n",
        "    disp = metrics.ConfusionMatrixDisplay(confusion_matrix=cm,\n",
        "                                          display_labels=MNISTClassificationBaseModel.classes)\n",
        "    disp.plot()\n",
        "    plt.show()\n",
        "\n",
        "  def _define_model(self):\n",
        "    image_shape =self. _x_train.shape[1:]\n",
        "    img_input = Input(shape=image_shape)\n",
        "\n",
        "    x = Conv2D(64, (3, 3), padding='same', kernel_initializer=\"he_normal\", name='conv1')(img_input)\n",
        "    x = BatchNormalization()(x)\n",
        "    x = Activation('sigmoid')(x)\n",
        "    x = MaxPooling2D((2, 2), strides=(2, 2), name='pool1')(x)\n",
        "\n",
        "    x = Conv2D(64, (3, 3), padding='same', kernel_initializer=\"he_normal\", name='conv2')(x)\n",
        "    x = BatchNormalization()(x)\n",
        "    x = Activation('relu')(x)\n",
        "    x = MaxPooling2D((2, 2), strides=(2, 2), name='pool2')(x)\n",
        "\n",
        "    x = Flatten()(x)\n",
        "\n",
        "    x = Dense(128, kernel_initializer=\"he_normal\", name='fc1')(x)\n",
        "    x = BatchNormalization()(x)\n",
        "    x = Activation('sigmoid', name='lid')(x)\n",
        "    # x = Dropout(0.2)(x)\n",
        "\n",
        "    x = Dense(10, kernel_initializer=\"he_normal\")(x)\n",
        "    x = Activation(tf.nn.softmax)(x)\n",
        "\n",
        "    model = Model(img_input, x)\n",
        "    return model\n",
        "\n",
        "  def definemodel(self):\n",
        "    image_shape =self. _x_train.shape[1:]\n",
        "    img_input = Input(shape=image_shape)\n",
        "\n",
        "    x = Conv2D(256, (3, 3), padding='same', kernel_initializer=\"he_normal\", name='conv1',kernel_regularizer='l1')(img_input)\n",
        "    x = BatchNormalization()(x)\n",
        "    x = Activation('relu')(x)\n",
        "    x = MaxPooling2D((2, 2), strides=(2, 2), name='pool1')(x)\n",
        "\n",
        "    x = Conv2D(128, (3, 3), padding='same', kernel_initializer=\"he_normal\", name='conv2',kernel_regularizer='l2')(x)\n",
        "    x = BatchNormalization()(x)\n",
        "    x = Activation('relu')(x)\n",
        "    x = MaxPooling2D((2, 2), strides=(2, 2), name='pool2')(x)\n",
        "\n",
        "    x = Flatten()(x)\n",
        "\n",
        "    x = Dense(128, kernel_initializer=\"he_normal\", name='fc1')(x)\n",
        "    x = BatchNormalization()(x)\n",
        "    x = Activation('relu', name='lid')(x)\n",
        "    x = Dropout(0.2)(x)\n",
        "\n",
        "    x = Dense(10, kernel_initializer=\"he_normal\")(x)\n",
        "    x = Activation(tf.nn.softmax)(x)\n",
        "\n",
        "    model = Model(img_input, x)\n",
        "    return model\n",
        "\n",
        "\n",
        "  def train_and_predict(self):\n",
        "    model = self._define_model()\n",
        "    # Learn the digits on the train subset\n",
        "    loss = symmetric_cross_entropy(1.0, 1.0)\n",
        "    optimizer = SGD(lr=0.1, decay=1e-4, momentum=0.9)\n",
        "    model.compile(\n",
        "        loss=loss,\n",
        "        optimizer=optimizer,\n",
        "        metrics=['accuracy']\n",
        "    )\n",
        "    datagen = ImageDataGenerator()\n",
        "    #print(self.get_training_image())\n",
        "    #clf=model.fit(self.get_training_image(), self.get_training_label())\n",
        "    model.fit_generator(datagen.flow(self.get_training_image(),self.get_training_label(), batch_size=500),\n",
        "                        steps_per_epoch=len(self.get_training_image()) / 500, epochs=5)\n",
        "    # Predict the value of the digit on the test subset\n",
        "    predicted = model.predict(self.get_test_image())\n",
        "\n",
        "    return model,predicted\n",
        "  \n",
        "  def trainandpredict(self):\n",
        "    model = self.definemodel()\n",
        "    # Learn the digits on the train subset\n",
        "    loss = symmetric_cross_entropy(1.0, 1.0)\n",
        "    optimizer = SGD(lr=0.1, decay=1e-4, momentum=0.9)\n",
        "    model.compile(\n",
        "        loss=loss,\n",
        "        optimizer=optimizer,\n",
        "        metrics=['accuracy']\n",
        "    )\n",
        "    datagen = ImageDataGenerator()\n",
        "    #print(self.get_training_image())\n",
        "    #clf=model.fit(self.get_training_image(), self.get_training_label())\n",
        "    model.fit_generator(datagen.flow(self.get_training_image(),self.get_training_label(), batch_size=700),\n",
        "                        steps_per_epoch=len(self.get_training_image()) / 700, epochs=5)\n",
        "    # Predict the value of the digit on the test subset\n",
        "    predicted = model.predict(self.get_test_image())\n",
        "\n",
        "    return model,predicted\n"
      ]
    },
    {
      "cell_type": "code",
      "execution_count": 6,
      "metadata": {
        "id": "eb42ukjJJbKE"
      },
      "outputs": [],
      "source": [
        "def symmetric_cross_entropy(alpha, beta):\n",
        "    def loss(y_true, y_pred):\n",
        "        y_true_1 = y_true\n",
        "        y_pred_1 = y_pred\n",
        "\n",
        "        y_true_2 = y_true\n",
        "        y_pred_2 = y_pred\n",
        "\n",
        "        y_pred_1 = tf.clip_by_value(y_pred_1, 1e-7, 1.0)\n",
        "        y_true_2 = tf.clip_by_value(y_true_2, 1e-4, 1.0)\n",
        "\n",
        "        return alpha*tf.reduce_mean(-tf.reduce_sum(y_true_1 * tf.math.log(y_pred_1), axis = -1)) + beta*tf.reduce_mean(-tf.reduce_sum(y_pred_2 * tf.math.log(y_true_2), axis = -1))\n",
        "    return loss"
      ]
    },
    {
      "cell_type": "code",
      "execution_count": 7,
      "metadata": {
        "colab": {
          "base_uri": "https://localhost:8080/"
        },
        "id": "DaGcxl-KJqJ_",
        "outputId": "8e160ba2-a88e-4fe8-c3d8-47868a30d61e"
      },
      "outputs": [
        {
          "output_type": "stream",
          "name": "stdout",
          "text": [
            "Imabalnced and No noise\n"
          ]
        },
        {
          "output_type": "stream",
          "name": "stderr",
          "text": [
            "/usr/local/lib/python3.7/dist-packages/keras/optimizer_v2/gradient_descent.py:102: UserWarning: The `lr` argument is deprecated, use `learning_rate` instead.\n",
            "  super(SGD, self).__init__(name, **kwargs)\n",
            "/usr/local/lib/python3.7/dist-packages/ipykernel_launcher.py:115: UserWarning: `Model.fit_generator` is deprecated and will be removed in a future version. Please use `Model.fit`, which supports generators.\n"
          ]
        },
        {
          "output_type": "stream",
          "name": "stdout",
          "text": [
            "Epoch 1/5\n",
            "120/120 [==============================] - 159s 1s/step - loss: 1.0038 - accuracy: 0.9438\n",
            "Epoch 2/5\n",
            "120/120 [==============================] - 153s 1s/step - loss: 0.2095 - accuracy: 0.9873\n",
            "Epoch 3/5\n",
            "120/120 [==============================] - 152s 1s/step - loss: 0.1513 - accuracy: 0.9908\n",
            "Epoch 4/5\n",
            "120/120 [==============================] - 154s 1s/step - loss: 0.1144 - accuracy: 0.9933\n",
            "Epoch 5/5\n",
            "120/120 [==============================] - 151s 1s/step - loss: 0.0871 - accuracy: 0.9954\n"
          ]
        }
      ],
      "source": [
        "print(\"Imabalnced and No noise\")\n",
        "sl_imbalanced = SLModel(balanced=False, noise_type='No Noise', noise_ratio=0)\n",
        "sl_imbalanced.pre_process_label()\n",
        "model,predicted = sl_imbalanced.train_and_predict()"
      ]
    },
    {
      "cell_type": "code",
      "execution_count": 8,
      "metadata": {
        "colab": {
          "base_uri": "https://localhost:8080/",
          "height": 647
        },
        "id": "nPwCgnuKJq0p",
        "outputId": "a22651cc-3d9e-478f-9106-e55b482991c7"
      },
      "outputs": [
        {
          "output_type": "display_data",
          "data": {
            "image/png": "[encoded data removed]",
            "text/plain": [
              "<Figure size 432x288 with 2 Axes>"
            ]
          },
          "metadata": {
            "needs_background": "light"
          }
        },
        {
          "output_type": "stream",
          "name": "stdout",
          "text": [
            "Imbalanced with No noise\n",
            "Classification report for classifier <keras.engine.functional.Functional object at 0x7f892070fb10>:\n",
            "              precision    recall  f1-score   support\n",
            "\n",
            "           0       0.99      0.93      0.96       980\n",
            "           1       0.99      0.99      0.99      1135\n",
            "           2       0.99      0.95      0.97      1032\n",
            "           3       0.91      0.99      0.95      1010\n",
            "           4       0.96      0.99      0.97       982\n",
            "           5       0.99      0.97      0.98       892\n",
            "           6       0.99      0.97      0.98       958\n",
            "           7       0.75      1.00      0.86      1028\n",
            "           8       1.00      0.86      0.92       974\n",
            "           9       1.00      0.82      0.90      1009\n",
            "\n",
            "    accuracy                           0.95     10000\n",
            "   macro avg       0.96      0.95      0.95     10000\n",
            "weighted avg       0.96      0.95      0.95     10000\n",
            "\n",
            "\n"
          ]
        }
      ],
      "source": [
        "#x, y, z = sl_imbalanced.get_misclassified(np.argmax(predicted, axis=1))\n",
        "\n",
        "\n",
        "sl_imbalanced.display_confusion_matrix(np.argmax(predicted, axis=1))\n",
        "print(\"Imbalanced with No noise\")\n",
        "print(f\"Classification report for classifier {model}:\\n\"\n",
        "    f\"{metrics.classification_report(np.argmax(sl_imbalanced.get_test_label(),axis=1), np.argmax(predicted, axis=1))}\\n\")\n",
        "#print(sl_imbalanced._get_misclassified_indices(np.argmax(predicted, axis=1)))\n",
        "\n",
        "#sl_imbalanced.display_samples(x, y, z, True)"
      ]
    },
    {
      "cell_type": "code",
      "execution_count": 10,
      "metadata": {
        "colab": {
          "base_uri": "https://localhost:8080/",
          "height": 944
        },
        "id": "yyhhjVl6J5eU",
        "outputId": "89844ffc-fc35-4d3d-dfb6-b1333573e891"
      },
      "outputs": [
        {
          "output_type": "stream",
          "name": "stdout",
          "text": [
            "Imbalanced with Symmetrical Noise\n",
            "#correct labels: 48000, #incorrect labels: 12000\n",
            "Epoch 1/5\n"
          ]
        },
        {
          "output_type": "stream",
          "name": "stderr",
          "text": [
            "/usr/local/lib/python3.7/dist-packages/keras/optimizer_v2/gradient_descent.py:102: UserWarning: The `lr` argument is deprecated, use `learning_rate` instead.\n",
            "  super(SGD, self).__init__(name, **kwargs)\n",
            "/usr/local/lib/python3.7/dist-packages/ipykernel_launcher.py:115: UserWarning: `Model.fit_generator` is deprecated and will be removed in a future version. Please use `Model.fit`, which supports generators.\n"
          ]
        },
        {
          "output_type": "stream",
          "name": "stdout",
          "text": [
            "120/120 [==============================] - 159s 1s/step - loss: 4.2766 - accuracy: 0.7481\n",
            "Epoch 2/5\n",
            "120/120 [==============================] - 160s 1s/step - loss: 3.6300 - accuracy: 0.7877\n",
            "Epoch 3/5\n",
            "120/120 [==============================] - 159s 1s/step - loss: 3.5470 - accuracy: 0.7913\n",
            "Epoch 4/5\n",
            "120/120 [==============================] - 158s 1s/step - loss: 3.4901 - accuracy: 0.7932\n",
            "Epoch 5/5\n",
            "120/120 [==============================] - 156s 1s/step - loss: 3.4459 - accuracy: 0.7950\n"
          ]
        },
        {
          "output_type": "display_data",
          "data": {
            "image/png": "[encoded data removed]",
            "text/plain": [
              "<Figure size 432x288 with 2 Axes>"
            ]
          },
          "metadata": {
            "needs_background": "light"
          }
        },
        {
          "output_type": "stream",
          "name": "stdout",
          "text": [
            "Imbalanced with Symmetric Noise\n",
            "Classification report for classifier <keras.engine.functional.Functional object at 0x7fb456871050>:\n",
            "              precision    recall  f1-score   support\n",
            "\n",
            "           0       1.00      0.98      0.99       980\n",
            "           1       0.98      1.00      0.99      1135\n",
            "           2       0.99      0.99      0.99      1032\n",
            "           3       0.99      0.98      0.99      1010\n",
            "           4       0.97      0.98      0.98       982\n",
            "           5       0.95      1.00      0.97       892\n",
            "           6       0.99      0.98      0.99       958\n",
            "           7       0.95      0.99      0.97      1028\n",
            "           8       1.00      0.88      0.93       974\n",
            "           9       0.94      0.98      0.96      1009\n",
            "\n",
            "    accuracy                           0.98     10000\n",
            "   macro avg       0.98      0.98      0.98     10000\n",
            "weighted avg       0.98      0.98      0.98     10000\n",
            "\n",
            "\n"
          ]
        }
      ],
      "source": [
        "print('Imbalanced with Symmetrical Noise')\n",
        "sl_imbalanced1 = SLModel(balanced=False, noise_type='sym', noise_ratio=20)\n",
        "sl_imbalanced1.pre_process_label()\n",
        "model1,predicted1 = sl_imbalanced1.train_and_predict()\n",
        "sl_imbalanced1.display_confusion_matrix(np.argmax(predicted1, axis=1))\n",
        "print(\"Imbalanced with Symmetric Noise\")\n",
        "print(f\"Classification report for classifier {model1}:\\n\"\n",
        "    f\"{metrics.classification_report(np.argmax(sl_imbalanced1.get_test_label(),axis=1), np.argmax(predicted1, axis=1))}\\n\")"
      ]
    },
    {
      "cell_type": "code",
      "execution_count": 11,
      "metadata": {
        "id": "J88mlk9dKY4G",
        "colab": {
          "base_uri": "https://localhost:8080/",
          "height": 1000
        },
        "outputId": "76f8dcd3-160a-441b-cee6-e1e5ab119567"
      },
      "outputs": [
        {
          "output_type": "stream",
          "name": "stdout",
          "text": [
            "Imbalanced with Asymmetrical Noise\n",
            "Print noisy label generation statistics:\n",
            "Noisy class 0, has 5923 samples.\n",
            "Noisy class 1, has 9248 samples.\n",
            "Noisy class 2, has 3575 samples.\n",
            "Noisy class 3, has 3679 samples.\n",
            "Noisy class 4, has 5842 samples.\n",
            "Noisy class 5, has 5620 samples.\n",
            "Noisy class 6, has 5719 samples.\n",
            "Noisy class 7, has 6142 samples.\n",
            "Noisy class 8, has 8303 samples.\n",
            "Noisy class 9, has 5949 samples.\n",
            "#correct labels: 48124, #incorrect labels: 11876\n"
          ]
        },
        {
          "output_type": "stream",
          "name": "stderr",
          "text": [
            "/usr/local/lib/python3.7/dist-packages/keras/optimizer_v2/gradient_descent.py:102: UserWarning: The `lr` argument is deprecated, use `learning_rate` instead.\n",
            "  super(SGD, self).__init__(name, **kwargs)\n",
            "/usr/local/lib/python3.7/dist-packages/ipykernel_launcher.py:115: UserWarning: `Model.fit_generator` is deprecated and will be removed in a future version. Please use `Model.fit`, which supports generators.\n"
          ]
        },
        {
          "output_type": "stream",
          "name": "stdout",
          "text": [
            "Epoch 1/5\n",
            "120/120 [==============================] - 162s 1s/step - loss: 3.3830 - accuracy: 0.7419\n",
            "Epoch 2/5\n",
            "120/120 [==============================] - 156s 1s/step - loss: 2.7082 - accuracy: 0.7824\n",
            "Epoch 3/5\n",
            "120/120 [==============================] - 157s 1s/step - loss: 2.6248 - accuracy: 0.7874\n",
            "Epoch 4/5\n",
            "120/120 [==============================] - 155s 1s/step - loss: 2.5481 - accuracy: 0.7939\n",
            "Epoch 5/5\n",
            "120/120 [==============================] - 153s 1s/step - loss: 2.5295 - accuracy: 0.7950\n"
          ]
        },
        {
          "output_type": "display_data",
          "data": {
            "image/png": "[encoded data removed]",
            "text/plain": [
              "<Figure size 432x288 with 2 Axes>"
            ]
          },
          "metadata": {
            "needs_background": "light"
          }
        },
        {
          "output_type": "stream",
          "name": "stdout",
          "text": [
            "Imbalanced with Asymmetrical Noise\n",
            "Classification report for classifier <keras.engine.functional.Functional object at 0x7fb455672050>:\n",
            "              precision    recall  f1-score   support\n",
            "\n",
            "           0       1.00      0.99      0.99       980\n",
            "           1       0.89      0.99      0.94      1135\n",
            "           2       0.99      0.95      0.97      1032\n",
            "           3       1.00      0.87      0.93      1010\n",
            "           4       0.91      1.00      0.95       982\n",
            "           5       0.99      0.91      0.95       892\n",
            "           6       0.91      0.99      0.95       958\n",
            "           7       0.97      0.84      0.90      1028\n",
            "           8       0.87      0.98      0.92       974\n",
            "           9       0.99      0.93      0.96      1009\n",
            "\n",
            "    accuracy                           0.95     10000\n",
            "   macro avg       0.95      0.95      0.95     10000\n",
            "weighted avg       0.95      0.95      0.95     10000\n",
            "\n",
            "\n"
          ]
        }
      ],
      "source": [
        "print('Imbalanced with Asymmetrical Noise')\n",
        "sl_imbalanced2 = SLModel(balanced=False, noise_type='asym', noise_ratio=40)\n",
        "sl_imbalanced2.pre_process_label()\n",
        "model2,predicted2 = sl_imbalanced2.train_and_predict()\n",
        "sl_imbalanced2.display_confusion_matrix(np.argmax(predicted2, axis=1))\n",
        "print('Imbalanced with Asymmetrical Noise')\n",
        "print(f\"Classification report for classifier {model2}:\\n\"\n",
        "    f\"{metrics.classification_report(np.argmax(sl_imbalanced2.get_test_label(),axis=1), np.argmax(predicted2, axis=1))}\\n\")"
      ]
    },
    {
      "cell_type": "code",
      "execution_count": 12,
      "metadata": {
        "colab": {
          "base_uri": "https://localhost:8080/",
          "height": 1000
        },
        "id": "MsG6y_ccKCfN",
        "outputId": "3d3d7950-66da-41c1-bac8-6903b4df69db"
      },
      "outputs": [
        {
          "output_type": "stream",
          "name": "stdout",
          "text": [
            "Balanced with Symmetrical Noise\n",
            "(60000, 784)\n"
          ]
        },
        {
          "output_type": "stream",
          "name": "stderr",
          "text": [
            "/usr/local/lib/python3.7/dist-packages/ipykernel_launcher.py:36: DeprecationWarning: elementwise comparison failed; this will raise an error in the future.\n",
            "/usr/local/lib/python3.7/dist-packages/ipykernel_launcher.py:37: DeprecationWarning: elementwise comparison failed; this will raise an error in the future.\n",
            "/usr/local/lib/python3.7/dist-packages/keras/optimizer_v2/gradient_descent.py:102: UserWarning: The `lr` argument is deprecated, use `learning_rate` instead.\n",
            "  super(SGD, self).__init__(name, **kwargs)\n",
            "/usr/local/lib/python3.7/dist-packages/ipykernel_launcher.py:115: UserWarning: `Model.fit_generator` is deprecated and will be removed in a future version. Please use `Model.fit`, which supports generators.\n"
          ]
        },
        {
          "output_type": "stream",
          "name": "stdout",
          "text": [
            "#correct labels: 0, #incorrect labels: 0\n",
            "Epoch 1/5\n",
            "108/108 [==============================] - 141s 1s/step - loss: 4.2769 - accuracy: 0.7511\n",
            "Epoch 2/5\n",
            "108/108 [==============================] - 140s 1s/step - loss: 3.6465 - accuracy: 0.7877\n",
            "Epoch 3/5\n",
            "108/108 [==============================] - 142s 1s/step - loss: 3.5512 - accuracy: 0.7911\n",
            "Epoch 4/5\n",
            "108/108 [==============================] - 139s 1s/step - loss: 3.5023 - accuracy: 0.7929\n",
            "Epoch 5/5\n",
            "108/108 [==============================] - 142s 1s/step - loss: 3.4569 - accuracy: 0.7942\n"
          ]
        },
        {
          "output_type": "display_data",
          "data": {
            "image/png": "[encoded data removed]",
            "text/plain": [
              "<Figure size 432x288 with 2 Axes>"
            ]
          },
          "metadata": {
            "needs_background": "light"
          }
        },
        {
          "output_type": "stream",
          "name": "stdout",
          "text": [
            "Balanced with Symmetrical Noise\n",
            "Classification report for classifier <keras.engine.functional.Functional object at 0x7fb4551d9a50>:\n",
            "              precision    recall  f1-score   support\n",
            "\n",
            "           0       0.99      0.96      0.98       980\n",
            "           1       0.99      0.99      0.99      1135\n",
            "           2       0.99      0.95      0.97      1032\n",
            "           3       0.98      0.97      0.98      1010\n",
            "           4       0.95      1.00      0.97       982\n",
            "           5       1.00      0.91      0.95       892\n",
            "           6       0.97      0.98      0.98       958\n",
            "           7       0.98      0.97      0.98      1028\n",
            "           8       0.82      1.00      0.90       974\n",
            "           9       1.00      0.92      0.96      1009\n",
            "\n",
            "    accuracy                           0.96     10000\n",
            "   macro avg       0.97      0.96      0.97     10000\n",
            "weighted avg       0.97      0.96      0.97     10000\n",
            "\n",
            "\n"
          ]
        }
      ],
      "source": [
        "print('Balanced with Symmetrical Noise')\n",
        "\n",
        "sl_imbalanced4 = SLModel(balanced=True, noise_type='sym', noise_ratio=20)\n",
        "sl_imbalanced4.pre_process_label()\n",
        "model3,predicted4 = sl_imbalanced4.train_and_predict()\n",
        "sl_imbalanced4.display_confusion_matrix(np.argmax(predicted4, axis=1))\n",
        "print('Balanced with Symmetrical Noise')\n",
        "print(f\"Classification report for classifier {model3}:\\n\"\n",
        "    f\"{metrics.classification_report(np.argmax(sl_imbalanced4.get_test_label(),axis=1), np.argmax(predicted4, axis=1))}\\n\")"
      ]
    },
    {
      "cell_type": "code",
      "execution_count": 13,
      "metadata": {
        "colab": {
          "base_uri": "https://localhost:8080/",
          "height": 1000
        },
        "id": "j8jjRbHJKJCC",
        "outputId": "a48e5894-ce2b-48b7-fa25-315a16309ef2"
      },
      "outputs": [
        {
          "output_type": "stream",
          "name": "stdout",
          "text": [
            "Balanced with Asymmetrical Noise\n",
            "(60000, 784)\n",
            "Print noisy label generation statistics:\n",
            "Noisy class 0, has 5421 samples.\n",
            "Noisy class 1, has 6505 samples.\n",
            "Noisy class 2, has 4337 samples.\n",
            "Noisy class 3, has 4337 samples.\n",
            "Noisy class 4, has 5421 samples.\n",
            "Noisy class 5, has 5421 samples.\n",
            "Noisy class 6, has 5421 samples.\n",
            "Noisy class 7, has 5421 samples.\n",
            "Noisy class 8, has 6505 samples.\n",
            "Noisy class 9, has 5421 samples.\n",
            "#correct labels: 0, #incorrect labels: 0\n"
          ]
        },
        {
          "output_type": "stream",
          "name": "stderr",
          "text": [
            "/usr/local/lib/python3.7/dist-packages/ipykernel_launcher.py:31: DeprecationWarning: elementwise comparison failed; this will raise an error in the future.\n",
            "/usr/local/lib/python3.7/dist-packages/ipykernel_launcher.py:32: DeprecationWarning: elementwise comparison failed; this will raise an error in the future.\n",
            "/usr/local/lib/python3.7/dist-packages/keras/optimizer_v2/gradient_descent.py:102: UserWarning: The `lr` argument is deprecated, use `learning_rate` instead.\n",
            "  super(SGD, self).__init__(name, **kwargs)\n",
            "/usr/local/lib/python3.7/dist-packages/ipykernel_launcher.py:115: UserWarning: `Model.fit_generator` is deprecated and will be removed in a future version. Please use `Model.fit`, which supports generators.\n"
          ]
        },
        {
          "output_type": "stream",
          "name": "stdout",
          "text": [
            "Epoch 1/5\n",
            "108/108 [==============================] - 142s 1s/step - loss: 2.4487 - accuracy: 0.8429\n",
            "Epoch 2/5\n",
            "108/108 [==============================] - 138s 1s/step - loss: 1.6455 - accuracy: 0.8861\n",
            "Epoch 3/5\n",
            "108/108 [==============================] - 138s 1s/step - loss: 1.5676 - accuracy: 0.8905\n",
            "Epoch 4/5\n",
            "108/108 [==============================] - 138s 1s/step - loss: 1.5228 - accuracy: 0.8926\n",
            "Epoch 5/5\n",
            "108/108 [==============================] - 139s 1s/step - loss: 1.4871 - accuracy: 0.8951\n"
          ]
        },
        {
          "output_type": "display_data",
          "data": {
            "image/png": "[encoded data removed]",
            "text/plain": [
              "<Figure size 432x288 with 2 Axes>"
            ]
          },
          "metadata": {
            "needs_background": "light"
          }
        },
        {
          "output_type": "stream",
          "name": "stdout",
          "text": [
            "Balanced with Asymmetrical Noise\n",
            "Classification report for classifier <keras.engine.functional.Functional object at 0x7fb453e73350>:\n",
            "              precision    recall  f1-score   support\n",
            "\n",
            "           0       1.00      0.75      0.86       980\n",
            "           1       0.94      0.99      0.97      1135\n",
            "           2       0.99      0.83      0.91      1032\n",
            "           3       0.98      0.99      0.98      1010\n",
            "           4       0.90      1.00      0.95       982\n",
            "           5       0.83      0.99      0.90       892\n",
            "           6       1.00      0.89      0.94       958\n",
            "           7       0.79      1.00      0.88      1028\n",
            "           8       0.98      0.97      0.97       974\n",
            "           9       1.00      0.89      0.94      1009\n",
            "\n",
            "    accuracy                           0.93     10000\n",
            "   macro avg       0.94      0.93      0.93     10000\n",
            "weighted avg       0.94      0.93      0.93     10000\n",
            "\n",
            "\n"
          ]
        }
      ],
      "source": [
        "print('Balanced with Asymmetrical Noise')\n",
        "sl_imbalanced5 = SLModel(balanced=True, noise_type='asym', noise_ratio=20)\n",
        "sl_imbalanced5.pre_process_label()\n",
        "model5,predicted5 = sl_imbalanced5.train_and_predict()\n",
        "sl_imbalanced5.display_confusion_matrix(np.argmax(predicted5, axis=1))\n",
        "print('Balanced with Asymmetrical Noise')\n",
        "print(f\"Classification report for classifier {model5}:\\n\"\n",
        "    f\"{metrics.classification_report(np.argmax(sl_imbalanced5.get_test_label(),axis=1), np.argmax(predicted5, axis=1))}\\n\")"
      ]
    },
    {
      "cell_type": "code",
      "execution_count": 14,
      "metadata": {
        "colab": {
          "base_uri": "https://localhost:8080/",
          "height": 944
        },
        "id": "MjmWzAVWsJUD",
        "outputId": "e0d2d070-6397-48b5-9da2-ee11a017624e"
      },
      "outputs": [
        {
          "output_type": "stream",
          "name": "stdout",
          "text": [
            "Balanced with No Noise\n",
            "(60000, 784)\n"
          ]
        },
        {
          "output_type": "stream",
          "name": "stderr",
          "text": [
            "/usr/local/lib/python3.7/dist-packages/keras/optimizer_v2/gradient_descent.py:102: UserWarning: The `lr` argument is deprecated, use `learning_rate` instead.\n",
            "  super(SGD, self).__init__(name, **kwargs)\n",
            "/usr/local/lib/python3.7/dist-packages/ipykernel_launcher.py:115: UserWarning: `Model.fit_generator` is deprecated and will be removed in a future version. Please use `Model.fit`, which supports generators.\n"
          ]
        },
        {
          "output_type": "stream",
          "name": "stdout",
          "text": [
            "Epoch 1/5\n",
            "108/108 [==============================] - 139s 1s/step - loss: 1.0443 - accuracy: 0.9436\n",
            "Epoch 2/5\n",
            "108/108 [==============================] - 138s 1s/step - loss: 0.2281 - accuracy: 0.9860\n",
            "Epoch 3/5\n",
            "108/108 [==============================] - 138s 1s/step - loss: 0.1565 - accuracy: 0.9907\n",
            "Epoch 4/5\n",
            "108/108 [==============================] - 139s 1s/step - loss: 0.1179 - accuracy: 0.9932\n",
            "Epoch 5/5\n",
            "108/108 [==============================] - 139s 1s/step - loss: 0.0911 - accuracy: 0.9951\n"
          ]
        },
        {
          "output_type": "display_data",
          "data": {
            "image/png": "[encoded data removed]",
            "text/plain": [
              "<Figure size 432x288 with 2 Axes>"
            ]
          },
          "metadata": {
            "needs_background": "light"
          }
        },
        {
          "output_type": "stream",
          "name": "stdout",
          "text": [
            "Balanced with No Noise\n",
            "Classification report for classifier <keras.engine.functional.Functional object at 0x7fb4539ef190>:\n",
            "              precision    recall  f1-score   support\n",
            "\n",
            "           0       0.98      0.99      0.98       980\n",
            "           1       0.97      1.00      0.98      1135\n",
            "           2       1.00      0.91      0.95      1032\n",
            "           3       0.98      0.99      0.98      1010\n",
            "           4       0.83      1.00      0.91       982\n",
            "           5       0.99      0.97      0.98       892\n",
            "           6       1.00      0.97      0.98       958\n",
            "           7       0.91      1.00      0.95      1028\n",
            "           8       1.00      0.91      0.95       974\n",
            "           9       0.99      0.87      0.93      1009\n",
            "\n",
            "    accuracy                           0.96     10000\n",
            "   macro avg       0.96      0.96      0.96     10000\n",
            "weighted avg       0.96      0.96      0.96     10000\n",
            "\n",
            "\n"
          ]
        }
      ],
      "source": [
        "print('Balanced with No Noise')\n",
        "sl_imbalanced3 = SLModel(balanced=True, noise_type='No Noise', noise_ratio=0)\n",
        "sl_imbalanced3.pre_process_label()\n",
        "model3,predicted3 = sl_imbalanced3.train_and_predict()\n",
        "sl_imbalanced3.display_confusion_matrix(np.argmax(predicted3, axis=1))\n",
        "print('Balanced with No Noise')\n",
        "print(f\"Classification report for classifier {model3}:\\n\"\n",
        "    f\"{metrics.classification_report(np.argmax(sl_imbalanced3.get_test_label(),axis=1), np.argmax(predicted3, axis=1))}\\n\")"
      ]
    }
  ],
  "metadata": {
    "colab": {
      "name": "SL.ipynb",
      "provenance": []
    },
    "kernelspec": {
      "display_name": "Python 3",
      "name": "python3"
    },
    "language_info": {
      "name": "python"
    }
  },
  "nbformat": 4,
  "nbformat_minor": 0
}