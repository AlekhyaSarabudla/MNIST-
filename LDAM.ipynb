{
  "nbformat": 4,
  "nbformat_minor": 0,
  "metadata": {
    "colab": {
      "name": "LDAM_final.ipynb",
      "provenance": []
    },
    "kernelspec": {
      "name": "python3",
      "display_name": "Python 3"
    },
    "language_info": {
      "name": "python"
    },
    "accelerator": "GPU"
  },
  "cells": [
    {
      "cell_type": "code",
      "metadata": {
        "id": "oXVZigK4H7sX"
      },
      "source": [
        "from keras.datasets import mnist\n",
        "from imblearn.under_sampling import RandomUnderSampler\n",
        "from tensorflow.keras.utils import to_categorical\n",
        "from sklearn import metrics\n",
        "from sklearn.metrics import accuracy_score\n",
        "from abc import ABC, abstractmethod\n",
        "import matplotlib.pyplot as plt\n",
        "import numpy as np\n",
        "from sklearn.utils import compute_class_weight\n",
        "from sklearn.utils import class_weight\n",
        "\n",
        "\n",
        "np.random.seed(123)\n",
        "\n",
        "class MNISTClassificationBaseModel(ABC):\n",
        "\n",
        "  class_count = 10\n",
        "  original_dataset_shape = (28, 28)\n",
        "  classes = [0, 1, 2, 3, 4, 5, 6, 7, 8, 9]\n",
        "\n",
        "  @abstractmethod\n",
        "  def __init__(self, balanced=False, noise_type='No Noise', noise_ratio=0):\n",
        "    (self._x_train, self._y_train), (self._x_test, self._y_test) = mnist.load_data()\n",
        "    self._original_dataset = (np.copy(self._x_train), np.copy(self._y_train),\n",
        "                              np.copy(self._x_test), np.copy(self._y_test))\n",
        "\n",
        "    if balanced is True:\n",
        "      self.balance_dataset()\n",
        "\n",
        "    self.shape_data()\n",
        "\n",
        "    if noise_type == 'asym':\n",
        "      self.induce_asym_noise(noise_ratio)\n",
        "      clean_selected = np.argwhere(self.get_training_label() == self.get_original_dataset()[1]).reshape((-1,))\n",
        "      noisy_selected = np.argwhere(self.get_training_label() != self.get_original_dataset()[1]).reshape((-1,))\n",
        "      print(\"#correct labels: %s, #incorrect labels: %s\" % (len(clean_selected), len(noisy_selected)))\n",
        "    elif noise_type == 'sym':\n",
        "      self.induce_sym_noise(noise_ratio)\n",
        "      clean_selected = np.argwhere(self.get_training_label() == self.get_original_dataset()[1]).reshape((-1,))\n",
        "      noisy_selected = np.argwhere(self.get_training_label() != self.get_original_dataset()[1]).reshape((-1,))\n",
        "      print(\"#correct labels: %s, #incorrect labels: %s\" % (len(clean_selected), len(noisy_selected)))\n",
        "    elif noise_type == 'No Noise':\n",
        "      pass\n",
        "    else:\n",
        "      raise ValueError('%s noise type is not recognized. Value can be asym, sym or No Noise' % noise_type)\n",
        "\n",
        "  def get_original_dataset(self):\n",
        "    return self._original_dataset;\n",
        "\n",
        "  def get_training_image(self):\n",
        "    return self._x_train\n",
        "\n",
        "  def get_training_label(self):\n",
        "    return self._y_train\n",
        "\n",
        "  def get_test_image(self):\n",
        "    return self._x_test\n",
        "\n",
        "  def get_test_label(self):\n",
        "    return self._y_test\n",
        "\n",
        "  def scale_pixels(self):\n",
        "    # Convert from integers to float\n",
        "    self._x_train = self._x_train.astype('float32')\n",
        "    self._x_test = self._x_test.astype('float32')\n",
        "\n",
        "    # Normalize pixels from range [0, 255] to [0, 1]\n",
        "    self._x_train /= 255.0\n",
        "    self._x_test /= 255.0\n",
        "\n",
        "  def show_class_distribution(self, original_dataset=False):\n",
        "    if original_dataset:\n",
        "      unique, counts = np.unique(self.get_original_dataset()[1], return_counts=True)\n",
        "      plt.bar(unique, counts)\n",
        "      # unique, counts = np.unique(self.get_original_dataset()[3], return_counts=True)\n",
        "      # plt.bar(unique, counts)\n",
        "    else:\n",
        "      unique, counts = np.unique(self.get_training_label(), return_counts=True)\n",
        "      plt.bar(unique, counts)\n",
        "      # unique, counts = np.unique(self.get_test_label(), return_counts=True)\n",
        "      # plt.bar(unique, counts)\n",
        "\n",
        "    plt.title('Class Distribution')\n",
        "    plt.xlabel('Class')\n",
        "    plt.ylabel('Frequency')\n",
        "\n",
        "    plt.show()\n",
        "\n",
        "  def print_accuracy(self, predicted):\n",
        "    print('Accuracy for the predicted labels : ' , accuracy_score(self.get_test_label(), predicted) * 100)\n",
        "\n",
        "  def display_confusion_matrix(self, predicted):\n",
        "    cm = metrics.confusion_matrix(self.get_test_label(), predicted,\n",
        "                                  labels=MNISTClassificationBaseModel.classes)\n",
        "    disp = metrics.ConfusionMatrixDisplay(confusion_matrix=cm,\n",
        "                                          display_labels=MNISTClassificationBaseModel.classes)\n",
        "    disp.plot()\n",
        "    plt.show()\n",
        "\n",
        "  def display_samples(self, images, actual_labels, predicted_labels, is_label_pre_processed):\n",
        "\n",
        "    images = images.reshape(*self.get_model_shape())\n",
        "    predicted_labels = predicted_labels.squeeze()\n",
        "    actual_labels = actual_labels.squeeze()\n",
        "\n",
        "    l = len(images)\n",
        "\n",
        "    while True:\n",
        "      if l <= 0:\n",
        "        break\n",
        "\n",
        "      cols = min(5, l)\n",
        "\n",
        "      subset_images, images = np.asarray(images[:cols]), np.asarray(images[cols:])\n",
        "      subset_predicted_labels, predicted_labels = np.asarray(predicted_labels[:cols]), np.asarray(predicted_labels[cols:])\n",
        "      subset_actual_labels, actual_labels = np.asarray(actual_labels[:cols]), np.asarray(actual_labels[cols:])\n",
        "\n",
        "      _, axes = plt.subplots(nrows=1, ncols=cols, figsize=(10, 3),\n",
        "                          constrained_layout=True)\n",
        "\n",
        "      for ax, image, actual_label, predicted_label in zip(axes, subset_images, subset_actual_labels, subset_predicted_labels):\n",
        "        ax.set_axis_off()\n",
        "        ax.imshow(image.reshape(MNISTClassificationBaseModel.original_dataset_shape), cmap='gray')\n",
        "        if is_label_pre_processed:\n",
        "          ax.set_title('Actual: %i, Predicted: %i' % (np.argmax(actual_label), np.argmax(predicted_label)))\n",
        "        else:\n",
        "          ax.set_title('Actual: %i, Predicted: %i' % (actual_label, predicted_label))\n",
        "\n",
        "      plt.show()\n",
        "\n",
        "      l -=cols\n",
        "\n",
        "  def _get_misclassified_indices(self, predicted):\n",
        "    return np.nonzero(predicted != self.get_test_label())\n",
        "\n",
        "  def get_misclassified(self, predicted):\n",
        "    misclassified_indices = np.asarray(self._get_misclassified_indices(predicted))\n",
        "    misclassified_test_image = self.get_test_image()[misclassified_indices]\n",
        "    misclassified_predicted_label = predicted[misclassified_indices]\n",
        "    misclassified_actual_label = self.get_test_label()[misclassified_indices]\n",
        "    return misclassified_test_image, misclassified_actual_label, misclassified_predicted_label\n",
        "\n",
        "  def balance_dataset(self):\n",
        "    rus = RandomUnderSampler(random_state=123)\n",
        "    self._x_train = self._x_train.reshape(-1, 28 * 28)\n",
        "    self._x_train, self._y_train = rus.fit_resample(self.get_training_image(), self.get_training_label())\n",
        "    self._x_train = self._x_train.reshape(-1, 28, 28)\n",
        "\n",
        "  def induce_asym_noise(self, noise_ratio=40):\n",
        "    source_class = [7, 2, 3, 5, 6]\n",
        "    target_class = [1, 7, 8, 6, 5]\n",
        "    y_train_clean = np.copy(self.get_training_label())\n",
        "\n",
        "    for s, t in zip(source_class, target_class):\n",
        "      cls_idx = np.where(y_train_clean == s)[0]\n",
        "      # print('cls_idx',cls_idx)\n",
        "      n_noisy = int(noise_ratio * cls_idx.shape[0] / 100)\n",
        "      # print('n_noisy',n_noisy)\n",
        "      noisy_sample_index = np.random.choice(cls_idx, n_noisy, replace=False)\n",
        "      # print(noisy_sample_index)\n",
        "      self._y_train[noisy_sample_index] = t\n",
        "\n",
        "    print(\"Print noisy label generation statistics:\")\n",
        "    for i in range(MNISTClassificationBaseModel.class_count):\n",
        "      n_noisy = np.sum(self.get_training_label() == i)\n",
        "      print(\"Noisy class %s, has %s samples.\" % (i, n_noisy))\n",
        "\n",
        "  def other_class(self, n_classes, current_class):\n",
        "    if current_class < 0 or current_class >= n_classes:\n",
        "        error_str = \"class_ind must be within the range (0, nb_classes - 1)\"\n",
        "        raise ValueError(error_str)\n",
        "\n",
        "    other_class_list = list(range(n_classes))\n",
        "    other_class_list.remove(current_class)\n",
        "    other_class = np.random.choice(other_class_list)\n",
        "    return other_class\n",
        "\n",
        "  def induce_sym_noise(self, noise_ratio=40):\n",
        "    y_train_clean = np.copy(self.get_training_label())\n",
        "    n_samples = self.get_training_label().shape[0]\n",
        "    n_noisy = int(noise_ratio * n_samples / 100)\n",
        "    # print(n_samples, n_noisy)\n",
        "    class_index = [np.where(y_train_clean == i)[0] for i in range(MNISTClassificationBaseModel.class_count)]\n",
        "    class_noisy = int(n_noisy / 10)\n",
        "\n",
        "    noisy_idx = []\n",
        "    for d in range(MNISTClassificationBaseModel.class_count):\n",
        "      noisy_class_index = np.random.choice(class_index[d], class_noisy, replace=False)\n",
        "      noisy_idx.extend(noisy_class_index)\n",
        "\n",
        "    for i in noisy_idx:\n",
        "      self._y_train[i] = self.other_class(n_classes=MNISTClassificationBaseModel.class_count,\n",
        "                                     current_class=self.get_training_label()[i])\n",
        "\n",
        "  @abstractmethod\n",
        "  def shape_data(self):\n",
        "    pass\n",
        "\n",
        "  @abstractmethod\n",
        "  def get_model_shape(self):\n",
        "    pass\n",
        "\n",
        "  @abstractmethod\n",
        "  def pre_process_label(self):\n",
        "    pass\n",
        "\n",
        "  @abstractmethod\n",
        "  def _define_model(self):\n",
        "    pass"
      ],
      "execution_count": null,
      "outputs": []
    },
    {
      "cell_type": "code",
      "metadata": {
        "id": "Me7LDJ7vH8mQ"
      },
      "source": [
        "from tensorflow import keras \n",
        "\n",
        "import tensorflow as tf \n",
        "import numpy as np \n",
        "# from PatternRecognition import *"
      ],
      "execution_count": null,
      "outputs": []
    },
    {
      "cell_type": "code",
      "metadata": {
        "id": "E-zlS0ZdIEZE"
      },
      "source": [
        "class LDAMLoss():\n",
        "\n",
        "    def __init__(self, cls_num_list, max_m=0.5, weight=None, s=30):\n",
        "        super(LDAMLoss, self).__init__()\n",
        "        m_list = 1.0 / np.sqrt(np.sqrt(cls_num_list))\n",
        "        m_list = m_list * (max_m / np.max(m_list))\n",
        "        m_list = tf.convert_to_tensor(m_list, dtype=tf.float32)\n",
        "        self.m_list = m_list\n",
        "        assert s > 0\n",
        "        self.s = s\n",
        "        self.weight = weight\n",
        "        self.n_classes = len(cls_num_list)\n",
        "\n",
        "    def __call__(self, target, x):\n",
        "        index_float = target\n",
        "        batch_m = tf.matmul(self.m_list[None, :], tf.transpose(index_float))\n",
        "        batch_m = tf.reshape(batch_m, (-1, 1))\n",
        "        x_m = x - batch_m\n",
        "\n",
        "        index_bool = tf.cast(index_float, tf.bool)\n",
        "        output = tf.where(index_bool, x_m, x)\n",
        "\n",
        "        labels = index_float\n",
        "        logits = output\n",
        "        \n",
        "        loss = tf.nn.softmax_cross_entropy_with_logits(\n",
        "            labels=labels, logits=logits*self.s)\n",
        "        return tf.reduce_mean(loss)"
      ],
      "execution_count": null,
      "outputs": []
    },
    {
      "cell_type": "code",
      "metadata": {
        "id": "AkXlaRdtIJEt"
      },
      "source": [
        "class LDAM(MNISTClassificationBaseModel):\n",
        "\n",
        "  def __init__(self, balanced=False, noise_type='No Noise', noise_ratio=0):\n",
        "    super().__init__(balanced, noise_type, noise_ratio)\n",
        "\n",
        "  def get_model_shape(self):\n",
        "    return SVMModel.shape\n",
        "\n",
        "  def shape_data(self):\n",
        "    # expand new axis, channel axis \n",
        "    self._x_train = np.expand_dims(self._x_train, axis=-1)\n",
        "    self._x_test = np.expand_dims(self._x_test, axis=-1)\n",
        "\n",
        "    # [optional]: we may need 3 channel (instead of 1)\n",
        "    self._x_train = np.repeat(self._x_train, 3, axis=-1)\n",
        "    self._x_test = np.repeat(self._x_test, 3, axis=-1)\n",
        "\n",
        "    self._x_train = self._x_train.astype('float32') / 255\n",
        "    self._x_test = self._x_test.astype('float32') / 255\n",
        "\n",
        "    self._x_train = tf.image.resize(self._x_train, [32,32])\n",
        "    self._x_test = tf.image.resize(self._x_test, [32,32])\n",
        "\n",
        "  def pre_process_label(self):\n",
        "    self._y_train = tf.keras.utils.to_categorical(self._y_train , num_classes=10)\n",
        "    self._y_test = tf.keras.utils.to_categorical(self._y_test , num_classes=10)\n",
        "\n",
        "  def display_confusion_matrix(self, predicted):\n",
        "    cm = metrics.confusion_matrix(np.argmax(self.get_test_label(), axis=1), predicted,\n",
        "                                  labels=MNISTClassificationBaseModel.classes)\n",
        "    disp = metrics.ConfusionMatrixDisplay(confusion_matrix=cm,\n",
        "                                          display_labels=MNISTClassificationBaseModel.classes)\n",
        "    disp.plot()\n",
        "    plt.show()\n",
        "\n",
        "  def print_accuracy(self, predicted):\n",
        "    print('Accuracy for the predicted labels : ' , accuracy_score(np.argmax(self.get_test_label(), axis=1), predicted) * 100)\n",
        "\n",
        "  def _define_model(self):\n",
        "    input = tf.keras.Input(shape=(32,32,3))\n",
        "    efnet = tf.keras.applications.ResNet50(weights='imagenet',\n",
        "                                             include_top = False, \n",
        "                                             input_tensor = input)\n",
        "    # Now that we apply global max pooling.\n",
        "    gap = tf.keras.layers.GlobalMaxPooling2D()(efnet.output)\n",
        "\n",
        "    # Finally, we add a classification layer.\n",
        "    output = tf.keras.layers.Dense(10, activation='softmax', use_bias=True)(gap)\n",
        "\n",
        "    # bind all\n",
        "    func_model = tf.keras.Model(efnet.input, output)\n",
        "    return func_model\n",
        "\n",
        "  def balance_dataset(self):\n",
        "    rus = RandomUnderSampler(random_state=123)\n",
        "    self._x_train = self._x_train.reshape(-1, 28 * 28)\n",
        "    print(self._x_train.shape)\n",
        "    self._x_train, self._y_train = rus.fit_resample(self.get_training_image(), self.get_training_label())\n",
        "    self._x_train = self._x_train.reshape(-1, 28, 28)\n",
        "    print(self._x_train.shape)\n",
        "\n",
        "  def train_and_predict(self):\n",
        "\n",
        "    epochs = 5\n",
        "    unique, counts = np.unique(self.get_original_dataset()[1], return_counts=True)\n",
        "\n",
        "    cls_num_list = []\n",
        "    for i in counts:\n",
        "      cls_num_list.append(i)\n",
        "\n",
        "    class_weights = class_weight.compute_class_weight(class_weight='balanced',\n",
        "                                                 classes=np.unique(np.argmax(self.get_training_label(), axis=1)),\n",
        "                                                 y=np.argmax(self.get_training_label(), axis=1))\n",
        "\n",
        "    class_weight_dict = {}\n",
        "    for idx, i in enumerate(np.ndenumerate(class_weight)):\n",
        "      print(idx, i)\n",
        "      class_weight_dict[idx] = i\n",
        "\n",
        "    model = self._define_model()\n",
        "    model.compile(\n",
        "          loss  = LDAMLoss(cls_num_list),\n",
        "          metrics = tf.keras.metrics.CategoricalAccuracy(),\n",
        "          optimizer = tf.keras.optimizers.Adam())\n",
        "    # fit \n",
        "    model.fit(self._x_train, self._y_train, batch_size=64, epochs=5, verbose = 2)\n",
        "    predicted = model.predict(self.get_test_image())\n",
        "    return model, predicted"
      ],
      "execution_count": null,
      "outputs": []
    },
    {
      "cell_type": "code",
      "metadata": {
        "colab": {
          "base_uri": "https://localhost:8080/",
          "height": 505
        },
        "id": "Wij0f6gCINBR",
        "outputId": "23cf0016-8d2c-4503-891d-83a9bfd89e78"
      },
      "source": [
        "l = LDAM(balanced=False, noise_type='sym', noise_ratio=40)\n",
        "l.pre_process_label()\n",
        "model, predicted = l.train_and_predict()\n",
        "l.display_confusion_matrix(np.argmax(predicted, axis=1))\n",
        "l.print_accuracy(np.argmax(predicted, axis=1))"
      ],
      "execution_count": null,
      "outputs": [
        {
          "output_type": "stream",
          "name": "stdout",
          "text": [
            "#correct labels: 36000, #incorrect labels: 24000\n",
            "0 ((), <module 'sklearn.utils.class_weight' from '/usr/local/lib/python3.7/dist-packages/sklearn/utils/class_weight.py'>)\n",
            "Epoch 1/5\n",
            "938/938 - 109s - loss: 16.4364 - categorical_accuracy: 0.3703 - 109s/epoch - 116ms/step\n",
            "Epoch 2/5\n",
            "938/938 - 101s - loss: 16.3299 - categorical_accuracy: 0.3232 - 101s/epoch - 107ms/step\n",
            "Epoch 3/5\n",
            "938/938 - 100s - loss: 15.5320 - categorical_accuracy: 0.4437 - 100s/epoch - 107ms/step\n",
            "Epoch 4/5\n",
            "938/938 - 100s - loss: 15.2822 - categorical_accuracy: 0.4949 - 100s/epoch - 107ms/step\n",
            "Epoch 5/5\n",
            "938/938 - 100s - loss: 14.4456 - categorical_accuracy: 0.5489 - 100s/epoch - 107ms/step\n"
          ]
        },
        {
          "output_type": "display_data",
          "data": {
            "image/png": "[encoded data removed]",
            "text/plain": [
              "<Figure size 432x288 with 2 Axes>"
            ]
          },
          "metadata": {
            "needs_background": "light"
          }
        },
        {
          "output_type": "stream",
          "name": "stdout",
          "text": [
            "Accuracy for the predicted labels :  91.02\n"
          ]
        }
      ]
    },
    {
      "cell_type": "code",
      "metadata": {
        "colab": {
          "base_uri": "https://localhost:8080/",
          "height": 678
        },
        "id": "DJzplej_IPEw",
        "outputId": "cbc609f0-8be2-4b5d-8cdd-d6729a4b51d4"
      },
      "source": [
        "l1 = LDAM(balanced=False, noise_type='asym', noise_ratio=40)\n",
        "l1.pre_process_label()\n",
        "model, predicted = l1.train_and_predict()\n",
        "l1.display_confusion_matrix(np.argmax(predicted, axis=1))\n",
        "l1.print_accuracy(np.argmax(predicted, axis=1))"
      ],
      "execution_count": null,
      "outputs": [
        {
          "output_type": "stream",
          "name": "stdout",
          "text": [
            "Print noisy label generation statistics:\n",
            "Noisy class 0, has 5923 samples.\n",
            "Noisy class 1, has 9248 samples.\n",
            "Noisy class 2, has 3575 samples.\n",
            "Noisy class 3, has 3679 samples.\n",
            "Noisy class 4, has 5842 samples.\n",
            "Noisy class 5, has 5620 samples.\n",
            "Noisy class 6, has 5719 samples.\n",
            "Noisy class 7, has 6142 samples.\n",
            "Noisy class 8, has 8303 samples.\n",
            "Noisy class 9, has 5949 samples.\n",
            "#correct labels: 48124, #incorrect labels: 11876\n",
            "Epoch 1/5\n",
            "938/938 - 109s - loss: 7.7243 - categorical_accuracy: 0.7531 - 109s/epoch - 116ms/step\n",
            "Epoch 2/5\n",
            "938/938 - 103s - loss: 7.0725 - categorical_accuracy: 0.7743 - 103s/epoch - 109ms/step\n",
            "Epoch 3/5\n",
            "938/938 - 103s - loss: 6.5636 - categorical_accuracy: 0.7881 - 103s/epoch - 109ms/step\n",
            "Epoch 4/5\n",
            "938/938 - 103s - loss: 6.5258 - categorical_accuracy: 0.7882 - 103s/epoch - 109ms/step\n",
            "Epoch 5/5\n",
            "938/938 - 102s - loss: 6.4447 - categorical_accuracy: 0.7896 - 102s/epoch - 109ms/step\n"
          ]
        },
        {
          "output_type": "display_data",
          "data": {
            "image/png": "[encoded data removed]",
            "text/plain": [
              "<Figure size 432x288 with 2 Axes>"
            ]
          },
          "metadata": {
            "needs_background": "light"
          }
        },
        {
          "output_type": "stream",
          "name": "stdout",
          "text": [
            "Accuracy for the predicted labels :  98.45\n"
          ]
        }
      ]
    },
    {
      "cell_type": "code",
      "metadata": {
        "colab": {
          "base_uri": "https://localhost:8080/",
          "height": 470
        },
        "id": "4gYcVqIqXCgm",
        "outputId": "405638c6-1db1-4a8f-9b37-91d00a60a443"
      },
      "source": [
        "l2 = LDAM(balanced=False, noise_type='No Noise', noise_ratio=40)\n",
        "l2.pre_process_label()\n",
        "model, predicted = l2.train_and_predict()\n",
        "l2.display_confusion_matrix(np.argmax(predicted, axis=1))\n",
        "l2.print_accuracy(np.argmax(predicted, axis=1))"
      ],
      "execution_count": null,
      "outputs": [
        {
          "output_type": "stream",
          "name": "stdout",
          "text": [
            "Epoch 1/5\n",
            "938/938 - 109s - loss: 1.8135 - categorical_accuracy: 0.9496 - 109s/epoch - 116ms/step\n",
            "Epoch 2/5\n",
            "938/938 - 102s - loss: 0.8122 - categorical_accuracy: 0.9780 - 102s/epoch - 108ms/step\n",
            "Epoch 3/5\n",
            "938/938 - 102s - loss: 0.7347 - categorical_accuracy: 0.9800 - 102s/epoch - 109ms/step\n",
            "Epoch 4/5\n",
            "938/938 - 102s - loss: 0.7361 - categorical_accuracy: 0.9801 - 102s/epoch - 109ms/step\n",
            "Epoch 5/5\n",
            "938/938 - 102s - loss: 1.1315 - categorical_accuracy: 0.9699 - 102s/epoch - 109ms/step\n"
          ]
        },
        {
          "output_type": "display_data",
          "data": {
            "image/png": "[encoded data removed]",
            "text/plain": [
              "<Figure size 432x288 with 2 Axes>"
            ]
          },
          "metadata": {
            "needs_background": "light"
          }
        },
        {
          "output_type": "stream",
          "name": "stdout",
          "text": [
            "Accuracy for the predicted labels :  97.72\n"
          ]
        }
      ]
    },
    {
      "cell_type": "code",
      "metadata": {
        "colab": {
          "base_uri": "https://localhost:8080/",
          "height": 574
        },
        "id": "2hNmD31BXIA4",
        "outputId": "49c0c606-2505-443c-e42d-d2ed870d573c"
      },
      "source": [
        "l3 = LDAM(balanced=True, noise_type='No Noise', noise_ratio=0)\n",
        "l3.pre_process_label()\n",
        "print(l3.get_training_image().shape)\n",
        "print(l3.get_training_label().shape)\n",
        "print(l3.get_original_dataset()[0].shape)\n",
        "\n",
        "model, predicted = l3.train_and_predict()\n",
        "l3.display_confusion_matrix(np.argmax(predicted, axis=1))\n",
        "l3.print_accuracy(np.argmax(predicted, axis=1))"
      ],
      "execution_count": null,
      "outputs": [
        {
          "output_type": "stream",
          "name": "stdout",
          "text": [
            "(60000, 784)\n",
            "(54210, 28, 28)\n",
            "(54210, 32, 32, 3)\n",
            "(54210, 10)\n",
            "(60000, 28, 28)\n",
            "0 ((), <module 'sklearn.utils.class_weight' from '/usr/local/lib/python3.7/dist-packages/sklearn/utils/class_weight.py'>)\n",
            "Epoch 1/5\n",
            "848/848 - 99s - loss: 1.8356 - categorical_accuracy: 0.9468 - 99s/epoch - 117ms/step\n",
            "Epoch 2/5\n",
            "848/848 - 91s - loss: 1.8310 - categorical_accuracy: 0.9482 - 91s/epoch - 108ms/step\n",
            "Epoch 3/5\n",
            "848/848 - 92s - loss: 1.2310 - categorical_accuracy: 0.9652 - 92s/epoch - 108ms/step\n",
            "Epoch 4/5\n",
            "848/848 - 92s - loss: 0.7181 - categorical_accuracy: 0.9798 - 92s/epoch - 108ms/step\n",
            "Epoch 5/5\n",
            "848/848 - 91s - loss: 0.5071 - categorical_accuracy: 0.9861 - 91s/epoch - 108ms/step\n"
          ]
        },
        {
          "output_type": "display_data",
          "data": {
            "image/png": "[encoded data removed]",
            "text/plain": [
              "<Figure size 432x288 with 2 Axes>"
            ]
          },
          "metadata": {
            "needs_background": "light"
          }
        },
        {
          "output_type": "stream",
          "name": "stdout",
          "text": [
            "Accuracy for the predicted labels :  98.69\n"
          ]
        }
      ]
    },
    {
      "cell_type": "code",
      "metadata": {
        "colab": {
          "base_uri": "https://localhost:8080/",
          "height": 626
        },
        "id": "4_HIYPx8Xozf",
        "outputId": "e02847ae-7cfb-4818-bfae-915922f4fdc8"
      },
      "source": [
        "l4 = LDAM(balanced=True, noise_type='sym', noise_ratio=40)\n",
        "l4.pre_process_label()\n",
        "model, predicted = l4.train_and_predict()\n",
        "l4.display_confusion_matrix(np.argmax(predicted, axis=1))\n",
        "l4.print_accuracy(np.argmax(predicted, axis=1))"
      ],
      "execution_count": null,
      "outputs": [
        {
          "output_type": "stream",
          "name": "stdout",
          "text": [
            "(60000, 784)\n",
            "(54210, 28, 28)\n"
          ]
        },
        {
          "output_type": "stream",
          "name": "stderr",
          "text": [
            "/usr/local/lib/python3.7/dist-packages/ipykernel_launcher.py:39: DeprecationWarning: elementwise comparison failed; this will raise an error in the future.\n",
            "/usr/local/lib/python3.7/dist-packages/ipykernel_launcher.py:40: DeprecationWarning: elementwise comparison failed; this will raise an error in the future.\n"
          ]
        },
        {
          "output_type": "stream",
          "name": "stdout",
          "text": [
            "#correct labels: 0, #incorrect labels: 0\n",
            "0 ((), <module 'sklearn.utils.class_weight' from '/usr/local/lib/python3.7/dist-packages/sklearn/utils/class_weight.py'>)\n",
            "Downloading data from https://storage.googleapis.com/tensorflow/keras-applications/resnet/resnet50_weights_tf_dim_ordering_tf_kernels_notop.h5\n",
            "94773248/94765736 [==============================] - 2s 0us/step\n",
            "94781440/94765736 [==============================] - 2s 0us/step\n",
            "Epoch 1/5\n",
            "848/848 - 109s - loss: 16.8221 - categorical_accuracy: 0.2244 - 109s/epoch - 128ms/step\n",
            "Epoch 2/5\n",
            "848/848 - 91s - loss: 17.3139 - categorical_accuracy: 0.1023 - 91s/epoch - 107ms/step\n",
            "Epoch 3/5\n",
            "848/848 - 91s - loss: 17.0402 - categorical_accuracy: 0.1236 - 91s/epoch - 107ms/step\n",
            "Epoch 4/5\n",
            "848/848 - 91s - loss: 16.9782 - categorical_accuracy: 0.1491 - 91s/epoch - 107ms/step\n",
            "Epoch 5/5\n",
            "848/848 - 92s - loss: 16.7647 - categorical_accuracy: 0.1410 - 92s/epoch - 108ms/step\n"
          ]
        },
        {
          "output_type": "display_data",
          "data": {
            "image/png": "[encoded data removed]",
            "text/plain": [
              "<Figure size 432x288 with 2 Axes>"
            ]
          },
          "metadata": {
            "needs_background": "light"
          }
        },
        {
          "output_type": "stream",
          "name": "stdout",
          "text": [
            "Accuracy for the predicted labels :  20.89\n"
          ]
        }
      ]
    },
    {
      "cell_type": "code",
      "metadata": {
        "id": "_YhjRQJcwJsL",
        "colab": {
          "base_uri": "https://localhost:8080/",
          "height": 235
        },
        "outputId": "4082c938-672d-4a61-9c1c-8465b84a2126"
      },
      "source": [
        "l5 = LDAM(balanced=True, noise_type='asym', noise_ratio=40)\n",
        "l5.pre_process_label()\n",
        "model, predicted = l5.train_and_predict()\n",
        "l5.display_confusion_matrix(np.argmax(predicted, axis=1))\n",
        "l5.print_accuracy(np.argmax(predicted, axis=1))"
      ],
      "execution_count": 1,
      "outputs": [
        {
          "output_type": "error",
          "ename": "NameError",
          "evalue": "ignored",
          "traceback": [
            "\u001b[0;31m---------------------------------------------------------------------------\u001b[0m",
            "\u001b[0;31mNameError\u001b[0m                                 Traceback (most recent call last)",
            "\u001b[0;32m<ipython-input-1-dd021a0b306c>\u001b[0m in \u001b[0;36m<module>\u001b[0;34m()\u001b[0m\n\u001b[0;32m----> 1\u001b[0;31m \u001b[0ml5\u001b[0m \u001b[0;34m=\u001b[0m \u001b[0mLDAM\u001b[0m\u001b[0;34m(\u001b[0m\u001b[0mbalanced\u001b[0m\u001b[0;34m=\u001b[0m\u001b[0;32mTrue\u001b[0m\u001b[0;34m,\u001b[0m \u001b[0mnoise_type\u001b[0m\u001b[0;34m=\u001b[0m\u001b[0;34m'asym'\u001b[0m\u001b[0;34m,\u001b[0m \u001b[0mnoise_ratio\u001b[0m\u001b[0;34m=\u001b[0m\u001b[0;36m40\u001b[0m\u001b[0;34m)\u001b[0m\u001b[0;34m\u001b[0m\u001b[0;34m\u001b[0m\u001b[0m\n\u001b[0m\u001b[1;32m      2\u001b[0m \u001b[0ml5\u001b[0m\u001b[0;34m.\u001b[0m\u001b[0mpre_process_label\u001b[0m\u001b[0;34m(\u001b[0m\u001b[0;34m)\u001b[0m\u001b[0;34m\u001b[0m\u001b[0;34m\u001b[0m\u001b[0m\n\u001b[1;32m      3\u001b[0m \u001b[0mmodel\u001b[0m\u001b[0;34m,\u001b[0m \u001b[0mpredicted\u001b[0m \u001b[0;34m=\u001b[0m \u001b[0ml5\u001b[0m\u001b[0;34m.\u001b[0m\u001b[0mtrain_and_predict\u001b[0m\u001b[0;34m(\u001b[0m\u001b[0;34m)\u001b[0m\u001b[0;34m\u001b[0m\u001b[0;34m\u001b[0m\u001b[0m\n\u001b[1;32m      4\u001b[0m \u001b[0ml5\u001b[0m\u001b[0;34m.\u001b[0m\u001b[0mdisplay_confusion_matrix\u001b[0m\u001b[0;34m(\u001b[0m\u001b[0mnp\u001b[0m\u001b[0;34m.\u001b[0m\u001b[0margmax\u001b[0m\u001b[0;34m(\u001b[0m\u001b[0mpredicted\u001b[0m\u001b[0;34m,\u001b[0m \u001b[0maxis\u001b[0m\u001b[0;34m=\u001b[0m\u001b[0;36m1\u001b[0m\u001b[0;34m)\u001b[0m\u001b[0;34m)\u001b[0m\u001b[0;34m\u001b[0m\u001b[0;34m\u001b[0m\u001b[0m\n\u001b[1;32m      5\u001b[0m \u001b[0ml5\u001b[0m\u001b[0;34m.\u001b[0m\u001b[0mprint_accuracy\u001b[0m\u001b[0;34m(\u001b[0m\u001b[0mnp\u001b[0m\u001b[0;34m.\u001b[0m\u001b[0margmax\u001b[0m\u001b[0;34m(\u001b[0m\u001b[0mpredicted\u001b[0m\u001b[0;34m,\u001b[0m \u001b[0maxis\u001b[0m\u001b[0;34m=\u001b[0m\u001b[0;36m1\u001b[0m\u001b[0;34m)\u001b[0m\u001b[0;34m)\u001b[0m\u001b[0;34m\u001b[0m\u001b[0;34m\u001b[0m\u001b[0m\n",
            "\u001b[0;31mNameError\u001b[0m: name 'LDAM' is not defined"
          ]
        }
      ]
    },
    {
      "cell_type": "code",
      "metadata": {
        "id": "SMD3SqFRwL8l"
      },
      "source": [
        ""
      ],
      "execution_count": null,
      "outputs": []
    }
  ]
}